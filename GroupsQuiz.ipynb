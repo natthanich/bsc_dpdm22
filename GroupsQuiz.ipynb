{
  "nbformat": 4,
  "nbformat_minor": 0,
  "metadata": {
    "colab": {
      "provenance": [],
      "authorship_tag": "ABX9TyM5JH91r0kIVXt9n8dZ4cGc",
      "include_colab_link": true
    },
    "kernelspec": {
      "name": "python3",
      "display_name": "Python 3"
    },
    "language_info": {
      "name": "python"
    }
  },
  "cells": [
    {
      "cell_type": "markdown",
      "metadata": {
        "id": "view-in-github",
        "colab_type": "text"
      },
      "source": [
        "<a href=\"https://colab.research.google.com/github/natthanich/bsc_dpdm22/blob/main/GroupsQuiz.ipynb\" target=\"_parent\"><img src=\"https://colab.research.google.com/assets/colab-badge.svg\" alt=\"Open In Colab\"/></a>"
      ]
    },
    {
      "cell_type": "code",
      "source": [
        "import pandas as pd"
      ],
      "metadata": {
        "id": "L5oApUZ4s2kE"
      },
      "execution_count": 2,
      "outputs": []
    },
    {
      "cell_type": "code",
      "source": [
        "from google.colab import drive # เชื่อมเข้ากับ Drive\n",
        "drive.mount('/content/drive')  # คลิกที่ลิงก์ -> เลือก E-mail -> ลงชื่อเข้าใช้ -> ก็อปโค้ด -> นำกลับมาวางในช่องว่าง -> กด enter"
      ],
      "metadata": {
        "colab": {
          "base_uri": "https://localhost:8080/"
        },
        "id": "Xjs6PElxs1CN",
        "outputId": "da651bd9-a193-4742-8386-5325f99f2f87"
      },
      "execution_count": 12,
      "outputs": [
        {
          "output_type": "stream",
          "name": "stdout",
          "text": [
            "Drive already mounted at /content/drive; to attempt to forcibly remount, call drive.mount(\"/content/drive\", force_remount=True).\n"
          ]
        }
      ]
    },
    {
      "cell_type": "code",
      "source": [
        "#เข้าไป path ใน google drive\n",
        "import os\n",
        "os.chdir('/content/drive/MyDrive/bsc_DPDM_data/อุตุ/ความกด(เปอร์เซ็นต์)')\n",
        "\n",
        "!pwd #เช็ค paht ที่กำลังทำงานอยู่"
      ],
      "metadata": {
        "colab": {
          "base_uri": "https://localhost:8080/"
        },
        "id": "ssafsVZtufH6",
        "outputId": "c178c99a-0d70-4647-bdd5-803b9f546d1d"
      },
      "execution_count": 17,
      "outputs": [
        {
          "output_type": "stream",
          "name": "stdout",
          "text": [
            "/content/drive/MyDrive/bsc_DPDM_data/อุตุ/ความกด(เปอร์เซ็นต์)\n"
          ]
        }
      ]
    },
    {
      "cell_type": "code",
      "source": [
        "!ls "
      ],
      "metadata": {
        "colab": {
          "base_uri": "https://localhost:8080/"
        },
        "id": "nVZdBB9Aupf-",
        "outputId": "2755aead-7764-4cdb-b3fa-1f77ff72b6d8"
      },
      "execution_count": 22,
      "outputs": [
        {
          "output_type": "stream",
          "name": "stdout",
          "text": [
            "จ.เลย.xlsx  จ.สกลนคร.xlsx  จ.นครพนม.xlsx  จ.หนองคาย.xlsx  จ.ขอนแก่น.xlsx\n"
          ]
        }
      ]
    },
    {
      "cell_type": "code",
      "source": [
        "Pressure_KK = pd.read_excel('จ.ขอนแก่น.xlsx',sheet_name='Sheet1',skiprows=4 )\n",
        "Pressure_KK.rename(columns={'Unnamed: 0': 'ที่', 'Unnamed: 1': 'สถานี','Unnamed: 2': 'เดือน/ปี' ,'Unnamed: 34': 'เฉลี่ย'}, inplace=True)\n",
        "print(Pressure_KK.shape) # shown nomber of (row, column)\n",
        "\n",
        "Pressure_L = pd.read_excel('จ.เลย.xlsx',sheet_name='Sheet1',skiprows=4 )\n",
        "Pressure_L.rename(columns={'Unnamed: 0': 'ที่', 'Unnamed: 1': 'สถานี','Unnamed: 2': 'เดือน/ปี' ,'Unnamed: 34': 'เฉลี่ย'}, inplace=True)\n",
        "print(Pressure_L.shape)\n",
        "\n",
        "Pressure_SK = pd.read_excel('จ.สกลนคร.xlsx',sheet_name='Sheet1',skiprows=4 )\n",
        "Pressure_SK.rename(columns={'Unnamed: 0': 'ที่', 'Unnamed: 1': 'สถานี','Unnamed: 2': 'เดือน/ปี' ,'Unnamed: 34': 'เฉลี่ย'}, inplace=True)\n",
        "print(Pressure_SK.shape)\n",
        "\n",
        "Pressure_NP = pd.read_excel('จ.นครพนม.xlsx',sheet_name='Sheet1',skiprows=4 )\n",
        "Pressure_NP.rename(columns={'Unnamed: 0': 'ที่', 'Unnamed: 1': 'สถานี','Unnamed: 2': 'เดือน/ปี' ,'Unnamed: 34': 'เฉลี่ย'}, inplace=True)\n",
        "print(Pressure_NP.shape)\n",
        "\n",
        "Pressure_NK = pd.read_excel('จ.หนองคาย.xlsx',sheet_name='Sheet1',skiprows=4 )\n",
        "Pressure_NK.rename(columns={'Unnamed: 0': 'ที่', 'Unnamed: 1': 'สถานี','Unnamed: 2': 'เดือน/ปี' ,'Unnamed: 34': 'เฉลี่ย'}, inplace=True)\n",
        "print(Pressure_NK.shape)\n"
      ],
      "metadata": {
        "colab": {
          "base_uri": "https://localhost:8080/"
        },
        "id": "blSCqv3YwwKe",
        "outputId": "b2fd6e97-901f-41e1-9513-a520b70e5173"
      },
      "execution_count": 33,
      "outputs": [
        {
          "output_type": "stream",
          "name": "stdout",
          "text": [
            "(55, 35)\n",
            "(55, 35)\n",
            "(55, 35)\n",
            "(55, 35)\n",
            "(55, 35)\n"
          ]
        }
      ]
    },
    {
      "cell_type": "code",
      "source": [
        "#เข้าไป path ใน google drive\n",
        "import os\n",
        "os.chdir('/content/drive/MyDrive/bsc_DPDM_data/อุตุ/ความชื้นสัมพัทธ์(เปอร์เซ็นต์)')\n",
        "\n",
        "!pwd #เช็ค paht ที่กำลังทำงานอยู่\n",
        "!ls "
      ],
      "metadata": {
        "colab": {
          "base_uri": "https://localhost:8080/"
        },
        "id": "w_sFSus6uxUv",
        "outputId": "b8645806-d007-4ecd-e955-c31533dd3aba"
      },
      "execution_count": 36,
      "outputs": [
        {
          "output_type": "stream",
          "name": "stdout",
          "text": [
            "/content/drive/MyDrive/bsc_DPDM_data/อุตุ/ความชื้นสัมพัทธ์(เปอร์เซ็นต์)\n",
            "จ.เลย.xlsx  จ.นครพนม.xlsx  จ.สกลนคร.xlsx  จ.หนองคาย.xlsx  จ.ขอนแก่น.xlsx\n"
          ]
        }
      ]
    },
    {
      "cell_type": "code",
      "source": [
        "Humidity_KK = pd.read_excel('จ.ขอนแก่น.xlsx',sheet_name='Sheet1',skiprows=4 )\n",
        "Humidity_KK.rename(columns={'Unnamed: 0': 'ที่', 'Unnamed: 1': 'สถานี','Unnamed: 2': 'เดือน/ปี' ,'Unnamed: 34': 'เฉลี่ย'}, inplace=True)\n",
        "print(Humidity_KK.shape) # shown nomber of (row, column)\n",
        "\n",
        "Humidity_L = pd.read_excel('จ.เลย.xlsx',sheet_name='Sheet1',skiprows=4 )\n",
        "Humidity_L.rename(columns={'Unnamed: 0': 'ที่', 'Unnamed: 1': 'สถานี','Unnamed: 2': 'เดือน/ปี' ,'Unnamed: 34': 'เฉลี่ย'}, inplace=True)\n",
        "print(Humidity_L.shape)\n",
        "\n",
        "Humidity_SK = pd.read_excel('จ.สกลนคร.xlsx',sheet_name='Sheet1',skiprows=4 )\n",
        "Humidity_SK.rename(columns={'Unnamed: 0': 'ที่', 'Unnamed: 1': 'สถานี','Unnamed: 2': 'เดือน/ปี' ,'Unnamed: 34': 'เฉลี่ย'}, inplace=True)\n",
        "print(Humidity_SK.shape)\n",
        "\n",
        "Humidity_NP = pd.read_excel('จ.นครพนม.xlsx',sheet_name='Sheet1',skiprows=4 )\n",
        "Humidity_NP.rename(columns={'Unnamed: 0': 'ที่', 'Unnamed: 1': 'สถานี','Unnamed: 2': 'เดือน/ปี' ,'Unnamed: 34': 'เฉลี่ย'}, inplace=True)\n",
        "print(Humidity_NP.shape)\n",
        "\n",
        "Humidity_NK = pd.read_excel('จ.หนองคาย.xlsx',sheet_name='Sheet1',skiprows=4 )\n",
        "Humidity_NK.rename(columns={'Unnamed: 0': 'ที่', 'Unnamed: 1': 'สถานี','Unnamed: 2': 'เดือน/ปี' ,'Unnamed: 34': 'เฉลี่ย'}, inplace=True)\n",
        "print(Humidity_NK.shape)"
      ],
      "metadata": {
        "colab": {
          "base_uri": "https://localhost:8080/"
        },
        "id": "DBqmP-hy3V2d",
        "outputId": "f1804447-4d82-4784-ae7c-6643191f9193"
      },
      "execution_count": 38,
      "outputs": [
        {
          "output_type": "stream",
          "name": "stdout",
          "text": [
            "(55, 35)\n",
            "(55, 35)\n",
            "(55, 35)\n",
            "(55, 35)\n",
            "(55, 35)\n"
          ]
        }
      ]
    },
    {
      "cell_type": "markdown",
      "source": [
        "# สิ่งที่ทำได้ \n",
        "เรียกใช้ไฟล์ ได้ 2 ไฟล์\n",
        "# สิ่งที่จะทำต่อ\n",
        "เรียกใช้ไฟล์ครบทุกไฟล์ /เพิ่มจังหวัด / วนลูปแบบที่อ.บอก"
      ],
      "metadata": {
        "id": "vlej9x_o35FR"
      }
    },
    {
      "cell_type": "code",
      "source": [],
      "metadata": {
        "id": "YIH7n0UQ326Z"
      },
      "execution_count": null,
      "outputs": []
    }
  ]
}