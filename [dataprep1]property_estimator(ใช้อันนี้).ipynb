{
  "nbformat": 4,
  "nbformat_minor": 0,
  "metadata": {
    "colab": {
      "provenance": [],
      "toc_visible": true,
      "mount_file_id": "1nN1U7ulHkxn74tP6ly93-WuAE9GYBP6c",
      "authorship_tag": "ABX9TyP+CbTg2qB82pDA0L5mO4HV",
      "include_colab_link": true
    },
    "kernelspec": {
      "name": "python3",
      "display_name": "Python 3"
    },
    "language_info": {
      "name": "python"
    }
  },
  "cells": [
    {
      "cell_type": "markdown",
      "metadata": {
        "id": "view-in-github",
        "colab_type": "text"
      },
      "source": [
        "<a href=\"https://colab.research.google.com/github/natthanich/bsc_dpdm22/blob/main/%5Bdataprep1%5Dproperty_estimator(%E0%B9%83%E0%B8%8A%E0%B9%89%E0%B8%AD%E0%B8%B1%E0%B8%99%E0%B8%99%E0%B8%B5%E0%B9%89).ipynb\" target=\"_parent\"><img src=\"https://colab.research.google.com/assets/colab-badge.svg\" alt=\"Open In Colab\"/></a>"
      ]
    },
    {
      "cell_type": "code",
      "source": [
        "#เชื่อม google drive \n",
        "from google.colab import drive \n",
        "drive.mount('/content/drive')"
      ],
      "metadata": {
        "colab": {
          "base_uri": "https://localhost:8080/"
        },
        "id": "A5rZG_J4vEl7",
        "outputId": "18e4e6a6-000d-453a-fac0-0f7a9637992a"
      },
      "execution_count": 1,
      "outputs": [
        {
          "output_type": "stream",
          "name": "stdout",
          "text": [
            "Mounted at /content/drive\n"
          ]
        }
      ]
    },
    {
      "cell_type": "code",
      "execution_count": 2,
      "metadata": {
        "colab": {
          "base_uri": "https://localhost:8080/"
        },
        "id": "BTgKFOwMu5e_",
        "outputId": "4972e956-3397-4740-be07-b5767a2f03d1"
      },
      "outputs": [
        {
          "output_type": "stream",
          "name": "stdout",
          "text": [
            "/content/drive/MyDrive/bsc_DPDM_data\n"
          ]
        }
      ],
      "source": [
        "#เข้าไป path ใน google drive\n",
        "import os\n",
        "os.chdir('/content/drive/MyDrive/bsc_DPDM_data')\n",
        "\n",
        "!pwd #เช็ค paht ที่กำลังทำงานอยู่"
      ]
    },
    {
      "cell_type": "code",
      "source": [
        "import pandas as pd"
      ],
      "metadata": {
        "id": "BEcBGseBvMdh"
      },
      "execution_count": 3,
      "outputs": []
    },
    {
      "cell_type": "markdown",
      "source": [
        "# การหาค่า MAPE"
      ],
      "metadata": {
        "id": "2C7zQ1WhTIfX"
      }
    },
    {
      "cell_type": "markdown",
      "source": [
        "## บ้าน"
      ],
      "metadata": {
        "id": "_rsDTZBsxuu0"
      }
    },
    {
      "cell_type": "code",
      "source": [
        "from sklearn.metrics import mean_absolute_percentage_error as MAPE"
      ],
      "metadata": {
        "id": "W5z5eb9vxxOP"
      },
      "execution_count": 4,
      "outputs": []
    },
    {
      "cell_type": "code",
      "source": [
        "Home = pd.read_excel('/content/drive/MyDrive/bsc_DPDM_data/คำตอบนักประเมิน1.xlsx',sheet_name='บ้าน')\n",
        "id1 = Home[Home['ID ผู้ประเมิน']==1]\n",
        "id1 = id1.dropna(subset=['ราคาทรัพย์','ประเมินราคาซื้อ-ขาย'])  #ในที่นี้ควร Dropna เพราะไม่ทราบค่า //เเต่มีวิธีที่ดีกว่า คือการที่ดูปัจจัยแวดล้อมแล้วนำมาวิเคราะห์หาแนวโน้มของข้อมูลิล // เอาทุกค่าที่่มีอยู่มาสร้างโมเดลเพื่อทำนายค่าที่หายไป\n",
        "id2 = Home[Home['ID ผู้ประเมิน']==2]\n",
        "id2 = id2.dropna(subset=['ราคาทรัพย์','ประเมินราคาซื้อ-ขาย'])\n",
        "id1MAPE = MAPE(id1['ประเมินราคาซื้อ-ขาย'],pd.to_numeric(id1['ราคาทรัพย์']))\n",
        "id2MAPE = MAPE(id2['ประเมินราคาซื้อ-ขาย'],pd.to_numeric(id2['ราคาทรัพย์']))\n",
        "print(f'ความแตกต่างระหว่างราคาประกาศขายและราคาประเมินของ\\nบ้าน\\nนักประเมิน คนที่ 1 = {id1MAPE*100:.2f}%\\nนักประเมิน คนที่ 2 = {id2MAPE*100:.2f}%')\n",
        "id2['ประเมินโดย1'] = id2['post id'].map(id1.set_index('post id')['ประเมินราคาซื้อ-ขาย'])\n",
        "id2_d = id2.dropna(subset=['ประเมินราคาซื้อ-ขาย','ประเมินโดย1','ราคาทรัพย์'])\n",
        "one2two = MAPE(id2_d['ประเมินราคาซื้อ-ขาย'],id2_d['ประเมินโดย1'])\n",
        "two2one = MAPE(id2_d['ประเมินโดย1'],id2_d['ประเมินราคาซื้อ-ขาย'])\n",
        "print(f'ความผิดพลาดระหว่างนักประเมินทั้งสอง {((one2two)+(two2one))*50:.2f}%') #เฉลี่ยเพื่อหาความผิดพลาดระหว่าง 1 และ 2\n",
        "print(f'จำนวนทรัพย์ทั้งหมด {len(id2_d)} ทรัพย์')"
      ],
      "metadata": {
        "colab": {
          "base_uri": "https://localhost:8080/"
        },
        "id": "4rbM10Sfx2Kj",
        "outputId": "b8a7dda4-fe25-4f25-b254-5e58967ea1c7"
      },
      "execution_count": 5,
      "outputs": [
        {
          "output_type": "stream",
          "name": "stdout",
          "text": [
            "ความแตกต่างระหว่างราคาประกาศขายและราคาประเมินของ\n",
            "บ้าน\n",
            "นักประเมิน คนที่ 1 = 13.75%\n",
            "นักประเมิน คนที่ 2 = 9.51%\n",
            "ความผิดพลาดระหว่างนักประเมินทั้งสอง 13.54%\n",
            "จำนวนทรัพย์ทั้งหมด 61 ทรัพย์\n"
          ]
        }
      ]
    },
    {
      "cell_type": "code",
      "source": [
        "id2_d.columns"
      ],
      "metadata": {
        "colab": {
          "base_uri": "https://localhost:8080/"
        },
        "id": "BwWxRiRcMmcV",
        "outputId": "4167ac9a-2e65-4826-f6ee-839b01ec00ca"
      },
      "execution_count": 6,
      "outputs": [
        {
          "output_type": "execute_result",
          "data": {
            "text/plain": [
              "Index(['ID ผู้ประเมิน', 'post id', 'property_type',\n",
              "       'ความมั่นใจในการเมินราคาทรัพย์', 'ราคาทรัพย์', 'ประเมินราคาซื้อ-ขาย',\n",
              "       'ปัจจัยในการประเมินราคาซื้อ-ขาย', 'เหตุผลไม่มั่นใจราคาประเมิน',\n",
              "       'ให้คะแนนทรัพย์', 'Unnamed: 9', 'Unnamed: 10', 'Unnamed: 11',\n",
              "       'Unnamed: 12', 'Unnamed: 13', 'ประเมินโดย1'],\n",
              "      dtype='object')"
            ]
          },
          "metadata": {},
          "execution_count": 6
        }
      ]
    },
    {
      "cell_type": "code",
      "source": [
        "home = id2_d[['post id','ราคาทรัพย์','ประเมินโดย1', 'ประเมินราคาซื้อ-ขาย']]"
      ],
      "metadata": {
        "id": "54U5qfkCNEQK"
      },
      "execution_count": 7,
      "outputs": []
    },
    {
      "cell_type": "code",
      "source": [
        "home.rename(columns={'ประเมินราคาซื้อ-ขาย': 'ประเมินโดย2'},inplace=True)"
      ],
      "metadata": {
        "colab": {
          "base_uri": "https://localhost:8080/"
        },
        "id": "_jA-Ebc-OSUM",
        "outputId": "04303432-1afc-46ec-a467-b1479ca19181"
      },
      "execution_count": 8,
      "outputs": [
        {
          "output_type": "stream",
          "name": "stderr",
          "text": [
            "/usr/local/lib/python3.8/dist-packages/pandas/core/frame.py:5039: SettingWithCopyWarning: \n",
            "A value is trying to be set on a copy of a slice from a DataFrame\n",
            "\n",
            "See the caveats in the documentation: https://pandas.pydata.org/pandas-docs/stable/user_guide/indexing.html#returning-a-view-versus-a-copy\n",
            "  return super().rename(\n"
          ]
        }
      ]
    },
    {
      "cell_type": "markdown",
      "source": [
        "## ที่ดิน"
      ],
      "metadata": {
        "id": "32MHcPYI6vQr"
      }
    },
    {
      "cell_type": "code",
      "source": [
        "from sklearn.metrics import mean_absolute_percentage_error as MAPE"
      ],
      "metadata": {
        "id": "bm-19XZ86vQ8"
      },
      "execution_count": 9,
      "outputs": []
    },
    {
      "cell_type": "code",
      "source": [
        "Land = pd.read_excel('/content/drive/MyDrive/bsc_DPDM_data/คำตอบนักประเมิน1.xlsx',sheet_name='ที่ดิน')\n",
        "id1 = Land[Land['ID ผู้ประเมิน']==1]\n",
        "id1 = id1.dropna(subset=['ราคาทรัพย์','ประเมินราคาซื้อ-ขาย'])\n",
        "id2 = Land[Land['ID ผู้ประเมิน']==2]\n",
        "id2 = id2.dropna(subset=['ราคาทรัพย์','ประเมินราคาซื้อ-ขาย'])\n",
        "id1MAPE = MAPE(id1['ประเมินราคาซื้อ-ขาย'],pd.to_numeric(id1['ราคาทรัพย์']))\n",
        "id2MAPE = MAPE(id2['ประเมินราคาซื้อ-ขาย'],pd.to_numeric(id2['ราคาทรัพย์']))\n",
        "print(f'ความแตกต่างระหว่างราคาประกาศขายและราคาประเมินของ\\nบ้าน\\nนักประเมิน คนที่ 1 = {id1MAPE*100:.2f}%\\nนักประเมิน คนที่ 2 = {id2MAPE*100:.2f}%')\n",
        "id2['ประเมินโดย1'] = id2['post id'].map(id1.set_index('post id')['ประเมินราคาซื้อ-ขาย'])\n",
        "id2_d = id2.dropna(subset=['ประเมินราคาซื้อ-ขาย','ประเมินโดย1','ราคาทรัพย์'])\n",
        "one2two = MAPE(id2_d['ประเมินราคาซื้อ-ขาย'],id2_d['ประเมินโดย1'])\n",
        "two2one = MAPE(id2_d['ประเมินโดย1'],id2_d['ประเมินราคาซื้อ-ขาย'])\n",
        "print(f'ความผิดพลาดระหว่างนักประเมินทั้งสอง {((one2two)+(two2one))*50:.2f}%') #เฉลี่ยเพื่อหาความผิดพลาดระหว่าง 1 และ 2\n",
        "print(f'จำนวนทรัพย์ทั้งหมด {len(id2_d)} ทรัพย์')"
      ],
      "metadata": {
        "colab": {
          "base_uri": "https://localhost:8080/"
        },
        "outputId": "83bf33b8-c04a-4fdc-9d61-ac5ca82fe910",
        "id": "6lp2qtVf6vQ8"
      },
      "execution_count": 10,
      "outputs": [
        {
          "output_type": "stream",
          "name": "stdout",
          "text": [
            "ความแตกต่างระหว่างราคาประกาศขายและราคาประเมินของ\n",
            "บ้าน\n",
            "นักประเมิน คนที่ 1 = 53.94%\n",
            "นักประเมิน คนที่ 2 = 25.89%\n",
            "ความผิดพลาดระหว่างนักประเมินทั้งสอง 58.21%\n",
            "จำนวนทรัพย์ทั้งหมด 40 ทรัพย์\n"
          ]
        }
      ]
    },
    {
      "cell_type": "code",
      "source": [
        "id2_d.columns"
      ],
      "metadata": {
        "colab": {
          "base_uri": "https://localhost:8080/"
        },
        "outputId": "76b050a3-ba99-4517-8d9c-9e24ebe0e72c",
        "id": "wQot17RQ6vQ9"
      },
      "execution_count": 11,
      "outputs": [
        {
          "output_type": "execute_result",
          "data": {
            "text/plain": [
              "Index(['ID ผู้ประเมิน', 'post id', 'property_type',\n",
              "       'ความมั่นใจในการเมินราคาทรัพย์', 'ราคาทรัพย์', 'ประเมินราคาซื้อ-ขาย',\n",
              "       'ปัจจัยในการประเมินราคาซื้อ-ขาย', 'เหตุผลไม่มั่นใจราคาประเมิน',\n",
              "       'ให้คะแนนทรัพย์', 'Unnamed: 9', 'Unnamed: 10', 'Unnamed: 11',\n",
              "       'Unnamed: 12', 'ประเมินโดย1'],\n",
              "      dtype='object')"
            ]
          },
          "metadata": {},
          "execution_count": 11
        }
      ]
    },
    {
      "cell_type": "code",
      "source": [
        "land = id2_d[['post id','ราคาทรัพย์','ประเมินโดย1', 'ประเมินราคาซื้อ-ขาย']]"
      ],
      "metadata": {
        "id": "TWhobHIp6vQ-"
      },
      "execution_count": 12,
      "outputs": []
    },
    {
      "cell_type": "code",
      "source": [
        "land.rename(columns={'ประเมินราคาซื้อ-ขาย': 'ประเมินโดย2'},inplace=True)"
      ],
      "metadata": {
        "colab": {
          "base_uri": "https://localhost:8080/"
        },
        "outputId": "f690bebf-d75e-4e3c-b14d-80266725a9f4",
        "id": "OalRJxNj6vQ-"
      },
      "execution_count": 13,
      "outputs": [
        {
          "output_type": "stream",
          "name": "stderr",
          "text": [
            "/usr/local/lib/python3.8/dist-packages/pandas/core/frame.py:5039: SettingWithCopyWarning: \n",
            "A value is trying to be set on a copy of a slice from a DataFrame\n",
            "\n",
            "See the caveats in the documentation: https://pandas.pydata.org/pandas-docs/stable/user_guide/indexing.html#returning-a-view-versus-a-copy\n",
            "  return super().rename(\n"
          ]
        }
      ]
    },
    {
      "cell_type": "markdown",
      "source": [
        "## ทาวน์โฮม"
      ],
      "metadata": {
        "id": "PTLaJ4iD7vqd"
      }
    },
    {
      "cell_type": "code",
      "source": [
        "from sklearn.metrics import mean_absolute_percentage_error as MAPE"
      ],
      "metadata": {
        "id": "PE2r9_0l7vqn"
      },
      "execution_count": 14,
      "outputs": []
    },
    {
      "cell_type": "code",
      "source": [
        "Townh = pd.read_excel('/content/drive/MyDrive/bsc_DPDM_data/คำตอบนักประเมิน1.xlsx',sheet_name='ทาวน์โฮม')\n",
        "id1 = Townh[Townh['ID ผู้ประเมิน']==1]\n",
        "id1 = id1.dropna(subset=['ราคาทรัพย์','ประเมินราคาซื้อ-ขาย'])\n",
        "id2 = Townh[Townh['ID ผู้ประเมิน']==2]\n",
        "id2 = id2.dropna(subset=['ราคาทรัพย์','ประเมินราคาซื้อ-ขาย'])\n",
        "id1MAPE = MAPE(id1['ประเมินราคาซื้อ-ขาย'],pd.to_numeric(id1['ราคาทรัพย์']))\n",
        "id2MAPE = MAPE(id2['ประเมินราคาซื้อ-ขาย'],pd.to_numeric(id2['ราคาทรัพย์']))\n",
        "print(f'ความแตกต่างระหว่างราคาประกาศขายและราคาประเมินของ\\nบ้าน\\nนักประเมิน คนที่ 1 = {id1MAPE*100:.2f}%\\nนักประเมิน คนที่ 2 = {id2MAPE*100:.2f}%')\n",
        "id2['ประเมินโดย1'] = id2['post id'].map(id1.set_index('post id')['ประเมินราคาซื้อ-ขาย'])\n",
        "id2_d = id2.dropna(subset=['ประเมินราคาซื้อ-ขาย','ประเมินโดย1','ราคาทรัพย์'])\n",
        "one2two = MAPE(id2_d['ประเมินราคาซื้อ-ขาย'],id2_d['ประเมินโดย1'])\n",
        "two2one = MAPE(id2_d['ประเมินโดย1'],id2_d['ประเมินราคาซื้อ-ขาย'])\n",
        "print(f'ความผิดพลาดระหว่างนักประเมินทั้งสอง {((one2two)+(two2one))*50:.2f}%') #เฉลี่ยเพื่อหาความผิดพลาดระหว่าง 1 และ 2\n",
        "print(f'จำนวนทรัพย์ทั้งหมด {len(id2_d)} ทรัพย์')"
      ],
      "metadata": {
        "colab": {
          "base_uri": "https://localhost:8080/"
        },
        "outputId": "3b32dc54-bb06-4208-d060-146d4bab4077",
        "id": "tbQuodlR7vqn"
      },
      "execution_count": 15,
      "outputs": [
        {
          "output_type": "stream",
          "name": "stdout",
          "text": [
            "ความแตกต่างระหว่างราคาประกาศขายและราคาประเมินของ\n",
            "บ้าน\n",
            "นักประเมิน คนที่ 1 = 20.12%\n",
            "นักประเมิน คนที่ 2 = 15.84%\n",
            "ความผิดพลาดระหว่างนักประเมินทั้งสอง 11.66%\n",
            "จำนวนทรัพย์ทั้งหมด 61 ทรัพย์\n"
          ]
        }
      ]
    },
    {
      "cell_type": "code",
      "source": [
        "id2_d.columns"
      ],
      "metadata": {
        "id": "Is2HpKWIVY0P"
      },
      "execution_count": null,
      "outputs": []
    },
    {
      "cell_type": "code",
      "source": [
        "townh = id2_d[['post id','ราคาทรัพย์','ประเมินโดย1', 'ประเมินราคาซื้อ-ขาย']]"
      ],
      "metadata": {
        "id": "HR_i4ZhPVcmu"
      },
      "execution_count": null,
      "outputs": []
    },
    {
      "cell_type": "code",
      "source": [
        "townh.rename(columns={'ประเมินราคาซื้อ-ขาย': 'ประเมินโดย2'},inplace=True)"
      ],
      "metadata": {
        "id": "iBbsBoGEVmv3"
      },
      "execution_count": null,
      "outputs": []
    },
    {
      "cell_type": "markdown",
      "source": [
        "## อาคารพาณิชย์"
      ],
      "metadata": {
        "id": "JwkXDp7kSHoi"
      }
    },
    {
      "cell_type": "code",
      "source": [
        "from sklearn.metrics import mean_absolute_percentage_error as MAPE"
      ],
      "metadata": {
        "id": "GmVbBGa0SHoj"
      },
      "execution_count": 25,
      "outputs": []
    },
    {
      "cell_type": "code",
      "source": [
        "Comm = pd.read_excel('/content/drive/MyDrive/bsc_DPDM_data/คำตอบนักประเมิน1.xlsx',sheet_name='อาคารพาณิชย์')\n",
        "id1 = Comm[Comm['ID ผู้ประเมิน']==1]\n",
        "id1 = id1.dropna(subset=['ราคาทรัพย์','ประเมินราคาซื้อ-ขาย'])\n",
        "id2 = Comm[Comm['ID ผู้ประเมิน']==2]\n",
        "id2 = id2.dropna(subset=['ราคาทรัพย์','ประเมินราคาซื้อ-ขาย'])\n",
        "id1MAPE = MAPE(id1['ประเมินราคาซื้อ-ขาย'],pd.to_numeric(id1['ราคาทรัพย์']))\n",
        "id2MAPE = MAPE(id2['ประเมินราคาซื้อ-ขาย'],pd.to_numeric(id2['ราคาทรัพย์']))\n",
        "print(f'ความแตกต่างระหว่างราคาประกาศขายและราคาประเมินของ\\nบ้าน\\nนักประเมิน คนที่ 1 = {id1MAPE*100:.2f}%\\nนักประเมิน คนที่ 2 = {id2MAPE*100:.2f}%')\n",
        "id2['ประเมินโดย1'] = id2['post id'].map(id1.set_index('post id')['ประเมินราคาซื้อ-ขาย'])\n",
        "id2_d = id2.dropna(subset=['ประเมินราคาซื้อ-ขาย','ประเมินโดย1','ราคาทรัพย์'])\n",
        "one2two = MAPE(id2_d['ประเมินราคาซื้อ-ขาย'],id2_d['ประเมินโดย1'])\n",
        "two2one = MAPE(id2_d['ประเมินโดย1'],id2_d['ประเมินราคาซื้อ-ขาย'])\n",
        "print(f'ความผิดพลาดระหว่างนักประเมินทั้งสอง {((one2two)+(two2one))*50:.2f}%') #เฉลี่ยเพื่อหาความผิดพลาดระหว่าง 1 และ 2\n",
        "print(f'จำนวนทรัพย์ทั้งหมด {len(id2_d)} ทรัพย์')"
      ],
      "metadata": {
        "colab": {
          "base_uri": "https://localhost:8080/"
        },
        "outputId": "2497348b-72ec-49ac-cfdf-ff57b1f3be73",
        "id": "q_BfaPaVSHoj"
      },
      "execution_count": 32,
      "outputs": [
        {
          "output_type": "stream",
          "name": "stdout",
          "text": [
            "ความแตกต่างระหว่างราคาประกาศขายและราคาประเมินของ\n",
            "บ้าน\n",
            "นักประเมิน คนที่ 1 = 25.45%\n",
            "นักประเมิน คนที่ 2 = 12.43%\n",
            "ความผิดพลาดระหว่างนักประเมินทั้งสอง 19.28%\n",
            "จำนวนทรัพย์ทั้งหมด 10 ทรัพย์\n"
          ]
        }
      ]
    },
    {
      "cell_type": "code",
      "source": [
        "id2_d.columns"
      ],
      "metadata": {
        "id": "z6D-NLbnVaCX"
      },
      "execution_count": null,
      "outputs": []
    },
    {
      "cell_type": "code",
      "source": [
        "comm = id2_d[['post id','ราคาทรัพย์','ประเมินโดย1', 'ประเมินราคาซื้อ-ขาย']]"
      ],
      "metadata": {
        "id": "oDYA20CSSHok"
      },
      "execution_count": 34,
      "outputs": []
    },
    {
      "cell_type": "code",
      "source": [
        "comm.rename(columns={'ประเมินราคาซื้อ-ขาย': 'ประเมินโดย2'},inplace=True)"
      ],
      "metadata": {
        "colab": {
          "base_uri": "https://localhost:8080/"
        },
        "outputId": "1176b4e2-cd3b-4892-e604-1d6826ee5658",
        "id": "j1xMKRXMSHol"
      },
      "execution_count": 35,
      "outputs": [
        {
          "output_type": "stream",
          "name": "stderr",
          "text": [
            "/usr/local/lib/python3.8/dist-packages/pandas/core/frame.py:5039: SettingWithCopyWarning: \n",
            "A value is trying to be set on a copy of a slice from a DataFrame\n",
            "\n",
            "See the caveats in the documentation: https://pandas.pydata.org/pandas-docs/stable/user_guide/indexing.html#returning-a-view-versus-a-copy\n",
            "  return super().rename(\n"
          ]
        }
      ]
    },
    {
      "cell_type": "markdown",
      "source": [
        "# เขียน function ตรวจสอบค่าที่เติม 0 ผิด"
      ],
      "metadata": {
        "id": "RtvgCylBPzLR"
      }
    },
    {
      "cell_type": "code",
      "source": [
        "max(10,2)"
      ],
      "metadata": {
        "colab": {
          "base_uri": "https://localhost:8080/"
        },
        "id": "JO2hIvGFP0Q4",
        "outputId": "57b15a14-b627-420a-b31e-b49ac75b17d6"
      },
      "execution_count": 19,
      "outputs": [
        {
          "output_type": "execute_result",
          "data": {
            "text/plain": [
              "10"
            ]
          },
          "metadata": {},
          "execution_count": 19
        }
      ]
    },
    {
      "cell_type": "code",
      "source": [
        "def check_v(in1,in2):\n",
        "    return max(in1/in2,in2/in1)"
      ],
      "metadata": {
        "id": "k5cwr7UUP69W"
      },
      "execution_count": 20,
      "outputs": []
    },
    {
      "cell_type": "code",
      "source": [
        "check_v(100,12)"
      ],
      "metadata": {
        "colab": {
          "base_uri": "https://localhost:8080/"
        },
        "id": "tAKVDxfWP9jE",
        "outputId": "7cb0f8df-d09c-4bf2-bcac-2ff5c51ac94c"
      },
      "execution_count": 21,
      "outputs": [
        {
          "output_type": "execute_result",
          "data": {
            "text/plain": [
              "8.333333333333334"
            ]
          },
          "metadata": {},
          "execution_count": 21
        }
      ]
    },
    {
      "cell_type": "markdown",
      "source": [
        "### สร้าง column ใหม่ ลงในตาราง home โดย ค่าใน column คือค่า จาก function check(ราคาตั้งขาย,ราคาประเมิน1)"
      ],
      "metadata": {
        "id": "7NHrkdoZQGhT"
      }
    },
    {
      "cell_type": "markdown",
      "source": [
        "#### วิธีเพื่อน"
      ],
      "metadata": {
        "id": "bHvbr-B9Wto3"
      }
    },
    {
      "cell_type": "code",
      "source": [
        "# วิธีเพื่อน ได้เหมือนกัน ง่าย กว่า // ใช้คู่กับ  def check_v(in1,in2):   // ต้องสร้าง function  มาก่อน\n",
        "                                         #return max(in1/in2,in2/in1)\n",
        "home['check1']=home.apply(lambda x:check_v(x['ราคาทรัพย์'],x['ประเมินโดย1']),axis=1)\n",
        "home['check2']=home.apply(lambda x:check_v(x['ราคาทรัพย์'],x['ประเมินโดย2']),axis=1)\n",
        "home"
      ],
      "metadata": {
        "id": "B2JdQJ8_W0dF"
      },
      "execution_count": null,
      "outputs": []
    },
    {
      "cell_type": "markdown",
      "source": [
        "### บ้าน"
      ],
      "metadata": {
        "id": "PvtUTdu28u_T"
      }
    },
    {
      "cell_type": "code",
      "source": [
        "check1 = list()\n",
        "for row in home.iterrows():\n",
        "    check1.append(check_v(row[1]['ราคาทรัพย์'],row[1]['ประเมินโดย1']))\n",
        "home['check1'] = check1\n",
        "\n",
        "check2 = list()\n",
        "for row in home.iterrows():\n",
        "    check2.append(check_v(row[1]['ราคาทรัพย์'],row[1]['ประเมินโดย2']))\n",
        "home['check2'] = check2\n",
        "\n",
        "home"
      ],
      "metadata": {
        "colab": {
          "base_uri": "https://localhost:8080/",
          "height": 354
        },
        "id": "lLzc74QZQuAm",
        "outputId": "2d20ef93-fb08-403d-f446-e5dc1e3d6b58"
      },
      "execution_count": 22,
      "outputs": [
        {
          "output_type": "execute_result",
          "data": {
            "text/plain": [
              "                                 post id  ราคาทรัพย์  ประเมินโดย1  \\\n",
              "1     https://nayoo.co/khonkaen/posts/25   2700000.0    2500000.0   \n",
              "3     https://nayoo.co/khonkaen/posts/33   2600000.0    2200000.0   \n",
              "5    https://nayoo.co/khonkaen/posts/495   5900000.0    5000000.0   \n",
              "7    https://nayoo.co/khonkaen/posts/564   4400000.0    3500000.0   \n",
              "9    https://nayoo.co/khonkaen/posts/566   2750000.0    2500000.0   \n",
              "..                                   ...         ...          ...   \n",
              "113   https://nayoo.co/khonkaen/posts/23   5230000.0    5000000.0   \n",
              "115   https://nayoo.co/khonkaen/posts/28   1750000.0    1600000.0   \n",
              "187   https://nayoo.co/khonkaen/posts/20   2000000.0    3600000.0   \n",
              "188   https://nayoo.co/khonkaen/posts/31   4000000.0    4000000.0   \n",
              "189  https://nayoo.co/khonkaen/posts/570   1375000.0    1200000.0   \n",
              "\n",
              "     ประเมินโดย2    check1    check2  \n",
              "1      2700000.0  1.080000  1.000000  \n",
              "3      2400000.0  1.181818  1.083333  \n",
              "5      9000000.0  1.180000  1.525424  \n",
              "7      3700000.0  1.257143  1.189189  \n",
              "9      2500000.0  1.100000  1.100000  \n",
              "..           ...       ...       ...  \n",
              "113    5000000.0  1.046000  1.046000  \n",
              "115    1900000.0  1.093750  1.085714  \n",
              "187    2500000.0  1.800000  1.250000  \n",
              "188    3900000.0  1.000000  1.025641  \n",
              "189    1400000.0  1.145833  1.018182  \n",
              "\n",
              "[61 rows x 6 columns]"
            ],
            "text/html": [
              "\n",
              "  <div id=\"df-3c8c141f-c3e9-402d-b20b-ff5a74c9ab06\">\n",
              "    <div class=\"colab-df-container\">\n",
              "      <div>\n",
              "<style scoped>\n",
              "    .dataframe tbody tr th:only-of-type {\n",
              "        vertical-align: middle;\n",
              "    }\n",
              "\n",
              "    .dataframe tbody tr th {\n",
              "        vertical-align: top;\n",
              "    }\n",
              "\n",
              "    .dataframe thead th {\n",
              "        text-align: right;\n",
              "    }\n",
              "</style>\n",
              "<table border=\"1\" class=\"dataframe\">\n",
              "  <thead>\n",
              "    <tr style=\"text-align: right;\">\n",
              "      <th></th>\n",
              "      <th>post id</th>\n",
              "      <th>ราคาทรัพย์</th>\n",
              "      <th>ประเมินโดย1</th>\n",
              "      <th>ประเมินโดย2</th>\n",
              "      <th>check1</th>\n",
              "      <th>check2</th>\n",
              "    </tr>\n",
              "  </thead>\n",
              "  <tbody>\n",
              "    <tr>\n",
              "      <th>1</th>\n",
              "      <td>https://nayoo.co/khonkaen/posts/25</td>\n",
              "      <td>2700000.0</td>\n",
              "      <td>2500000.0</td>\n",
              "      <td>2700000.0</td>\n",
              "      <td>1.080000</td>\n",
              "      <td>1.000000</td>\n",
              "    </tr>\n",
              "    <tr>\n",
              "      <th>3</th>\n",
              "      <td>https://nayoo.co/khonkaen/posts/33</td>\n",
              "      <td>2600000.0</td>\n",
              "      <td>2200000.0</td>\n",
              "      <td>2400000.0</td>\n",
              "      <td>1.181818</td>\n",
              "      <td>1.083333</td>\n",
              "    </tr>\n",
              "    <tr>\n",
              "      <th>5</th>\n",
              "      <td>https://nayoo.co/khonkaen/posts/495</td>\n",
              "      <td>5900000.0</td>\n",
              "      <td>5000000.0</td>\n",
              "      <td>9000000.0</td>\n",
              "      <td>1.180000</td>\n",
              "      <td>1.525424</td>\n",
              "    </tr>\n",
              "    <tr>\n",
              "      <th>7</th>\n",
              "      <td>https://nayoo.co/khonkaen/posts/564</td>\n",
              "      <td>4400000.0</td>\n",
              "      <td>3500000.0</td>\n",
              "      <td>3700000.0</td>\n",
              "      <td>1.257143</td>\n",
              "      <td>1.189189</td>\n",
              "    </tr>\n",
              "    <tr>\n",
              "      <th>9</th>\n",
              "      <td>https://nayoo.co/khonkaen/posts/566</td>\n",
              "      <td>2750000.0</td>\n",
              "      <td>2500000.0</td>\n",
              "      <td>2500000.0</td>\n",
              "      <td>1.100000</td>\n",
              "      <td>1.100000</td>\n",
              "    </tr>\n",
              "    <tr>\n",
              "      <th>...</th>\n",
              "      <td>...</td>\n",
              "      <td>...</td>\n",
              "      <td>...</td>\n",
              "      <td>...</td>\n",
              "      <td>...</td>\n",
              "      <td>...</td>\n",
              "    </tr>\n",
              "    <tr>\n",
              "      <th>113</th>\n",
              "      <td>https://nayoo.co/khonkaen/posts/23</td>\n",
              "      <td>5230000.0</td>\n",
              "      <td>5000000.0</td>\n",
              "      <td>5000000.0</td>\n",
              "      <td>1.046000</td>\n",
              "      <td>1.046000</td>\n",
              "    </tr>\n",
              "    <tr>\n",
              "      <th>115</th>\n",
              "      <td>https://nayoo.co/khonkaen/posts/28</td>\n",
              "      <td>1750000.0</td>\n",
              "      <td>1600000.0</td>\n",
              "      <td>1900000.0</td>\n",
              "      <td>1.093750</td>\n",
              "      <td>1.085714</td>\n",
              "    </tr>\n",
              "    <tr>\n",
              "      <th>187</th>\n",
              "      <td>https://nayoo.co/khonkaen/posts/20</td>\n",
              "      <td>2000000.0</td>\n",
              "      <td>3600000.0</td>\n",
              "      <td>2500000.0</td>\n",
              "      <td>1.800000</td>\n",
              "      <td>1.250000</td>\n",
              "    </tr>\n",
              "    <tr>\n",
              "      <th>188</th>\n",
              "      <td>https://nayoo.co/khonkaen/posts/31</td>\n",
              "      <td>4000000.0</td>\n",
              "      <td>4000000.0</td>\n",
              "      <td>3900000.0</td>\n",
              "      <td>1.000000</td>\n",
              "      <td>1.025641</td>\n",
              "    </tr>\n",
              "    <tr>\n",
              "      <th>189</th>\n",
              "      <td>https://nayoo.co/khonkaen/posts/570</td>\n",
              "      <td>1375000.0</td>\n",
              "      <td>1200000.0</td>\n",
              "      <td>1400000.0</td>\n",
              "      <td>1.145833</td>\n",
              "      <td>1.018182</td>\n",
              "    </tr>\n",
              "  </tbody>\n",
              "</table>\n",
              "<p>61 rows × 6 columns</p>\n",
              "</div>\n",
              "      <button class=\"colab-df-convert\" onclick=\"convertToInteractive('df-3c8c141f-c3e9-402d-b20b-ff5a74c9ab06')\"\n",
              "              title=\"Convert this dataframe to an interactive table.\"\n",
              "              style=\"display:none;\">\n",
              "        \n",
              "  <svg xmlns=\"http://www.w3.org/2000/svg\" height=\"24px\"viewBox=\"0 0 24 24\"\n",
              "       width=\"24px\">\n",
              "    <path d=\"M0 0h24v24H0V0z\" fill=\"none\"/>\n",
              "    <path d=\"M18.56 5.44l.94 2.06.94-2.06 2.06-.94-2.06-.94-.94-2.06-.94 2.06-2.06.94zm-11 1L8.5 8.5l.94-2.06 2.06-.94-2.06-.94L8.5 2.5l-.94 2.06-2.06.94zm10 10l.94 2.06.94-2.06 2.06-.94-2.06-.94-.94-2.06-.94 2.06-2.06.94z\"/><path d=\"M17.41 7.96l-1.37-1.37c-.4-.4-.92-.59-1.43-.59-.52 0-1.04.2-1.43.59L10.3 9.45l-7.72 7.72c-.78.78-.78 2.05 0 2.83L4 21.41c.39.39.9.59 1.41.59.51 0 1.02-.2 1.41-.59l7.78-7.78 2.81-2.81c.8-.78.8-2.07 0-2.86zM5.41 20L4 18.59l7.72-7.72 1.47 1.35L5.41 20z\"/>\n",
              "  </svg>\n",
              "      </button>\n",
              "      \n",
              "  <style>\n",
              "    .colab-df-container {\n",
              "      display:flex;\n",
              "      flex-wrap:wrap;\n",
              "      gap: 12px;\n",
              "    }\n",
              "\n",
              "    .colab-df-convert {\n",
              "      background-color: #E8F0FE;\n",
              "      border: none;\n",
              "      border-radius: 50%;\n",
              "      cursor: pointer;\n",
              "      display: none;\n",
              "      fill: #1967D2;\n",
              "      height: 32px;\n",
              "      padding: 0 0 0 0;\n",
              "      width: 32px;\n",
              "    }\n",
              "\n",
              "    .colab-df-convert:hover {\n",
              "      background-color: #E2EBFA;\n",
              "      box-shadow: 0px 1px 2px rgba(60, 64, 67, 0.3), 0px 1px 3px 1px rgba(60, 64, 67, 0.15);\n",
              "      fill: #174EA6;\n",
              "    }\n",
              "\n",
              "    [theme=dark] .colab-df-convert {\n",
              "      background-color: #3B4455;\n",
              "      fill: #D2E3FC;\n",
              "    }\n",
              "\n",
              "    [theme=dark] .colab-df-convert:hover {\n",
              "      background-color: #434B5C;\n",
              "      box-shadow: 0px 1px 3px 1px rgba(0, 0, 0, 0.15);\n",
              "      filter: drop-shadow(0px 1px 2px rgba(0, 0, 0, 0.3));\n",
              "      fill: #FFFFFF;\n",
              "    }\n",
              "  </style>\n",
              "\n",
              "      <script>\n",
              "        const buttonEl =\n",
              "          document.querySelector('#df-3c8c141f-c3e9-402d-b20b-ff5a74c9ab06 button.colab-df-convert');\n",
              "        buttonEl.style.display =\n",
              "          google.colab.kernel.accessAllowed ? 'block' : 'none';\n",
              "\n",
              "        async function convertToInteractive(key) {\n",
              "          const element = document.querySelector('#df-3c8c141f-c3e9-402d-b20b-ff5a74c9ab06');\n",
              "          const dataTable =\n",
              "            await google.colab.kernel.invokeFunction('convertToInteractive',\n",
              "                                                     [key], {});\n",
              "          if (!dataTable) return;\n",
              "\n",
              "          const docLinkHtml = 'Like what you see? Visit the ' +\n",
              "            '<a target=\"_blank\" href=https://colab.research.google.com/notebooks/data_table.ipynb>data table notebook</a>'\n",
              "            + ' to learn more about interactive tables.';\n",
              "          element.innerHTML = '';\n",
              "          dataTable['output_type'] = 'display_data';\n",
              "          await google.colab.output.renderOutput(dataTable, element);\n",
              "          const docLink = document.createElement('div');\n",
              "          docLink.innerHTML = docLinkHtml;\n",
              "          element.appendChild(docLink);\n",
              "        }\n",
              "      </script>\n",
              "    </div>\n",
              "  </div>\n",
              "  "
            ]
          },
          "metadata": {},
          "execution_count": 22
        }
      ]
    },
    {
      "cell_type": "markdown",
      "source": [
        "### ที่ดิน"
      ],
      "metadata": {
        "id": "PxKANpJo9QMg"
      }
    },
    {
      "cell_type": "code",
      "source": [
        "check1 = list()\n",
        "for row in land.iterrows():\n",
        "    check1.append(check_v(row[1]['ราคาทรัพย์'],row[1]['ประเมินโดย1']))\n",
        "land['check1'] = check1\n",
        "\n",
        "check2 = list()\n",
        "for row in land.iterrows():\n",
        "    check2.append(check_v(row[1]['ราคาทรัพย์'],row[1]['ประเมินโดย2']))\n",
        "land['check2'] = check2\n",
        "\n",
        "land"
      ],
      "metadata": {
        "id": "MA4e5_W6VVCK",
        "colab": {
          "base_uri": "https://localhost:8080/",
          "height": 1000
        },
        "outputId": "84342a80-b49e-43db-d2ba-03f5fc2b7e81"
      },
      "execution_count": 23,
      "outputs": [
        {
          "output_type": "execute_result",
          "data": {
            "text/plain": [
              "                                  post id  ราคาทรัพย์  ประเมินโดย1  \\\n",
              "1    https://nayoo.co/khonkaen/posts/1033   2800000.0    1800000.0   \n",
              "4    https://nayoo.co/khonkaen/posts/1711  14900000.0    8000000.0   \n",
              "7    https://nayoo.co/khonkaen/posts/1726  90000000.0   18000000.0   \n",
              "10   https://nayoo.co/khonkaen/posts/1732  65000000.0   35000000.0   \n",
              "13   https://nayoo.co/khonkaen/posts/1866   3000000.0    2200000.0   \n",
              "16   https://nayoo.co/khonkaen/posts/1962   6000000.0    4000000.0   \n",
              "19   https://nayoo.co/khonkaen/posts/2007  16500000.0    3500000.0   \n",
              "22   https://nayoo.co/khonkaen/posts/2040   2200000.0    2500000.0   \n",
              "25   https://nayoo.co/khonkaen/posts/2045  12000000.0    7500000.0   \n",
              "28   https://nayoo.co/khonkaen/posts/2068   6700000.0    5600000.0   \n",
              "31   https://nayoo.co/khonkaen/posts/2194   2400000.0    2000000.0   \n",
              "33   https://nayoo.co/khonkaen/posts/2206   6000000.0    5000000.0   \n",
              "35   https://nayoo.co/khonkaen/posts/3219   4500000.0    4000000.0   \n",
              "37   https://nayoo.co/khonkaen/posts/3305  14000000.0   12000000.0   \n",
              "39   https://nayoo.co/khonkaen/posts/3515   3300000.0    3150000.0   \n",
              "41   https://nayoo.co/khonkaen/posts/3601   2300000.0    1900000.0   \n",
              "70   https://nayoo.co/khonkaen/posts/1639   3000000.0   12000000.0   \n",
              "72   https://nayoo.co/khonkaen/posts/1861  12000000.0   10000000.0   \n",
              "76   https://nayoo.co/khonkaen/posts/1716  28000000.0   22000000.0   \n",
              "78   https://nayoo.co/khonkaen/posts/3447    980000.0    1000000.0   \n",
              "100  https://nayoo.co/khonkaen/posts/1663   1485000.0    1500000.0   \n",
              "102  https://nayoo.co/khonkaen/posts/1685   2900000.0    1600000.0   \n",
              "104  https://nayoo.co/khonkaen/posts/1921   8080000.0    2800000.0   \n",
              "106  https://nayoo.co/khonkaen/posts/2151   1390000.0    1000000.0   \n",
              "108  https://nayoo.co/khonkaen/posts/2199   1300000.0    1000000.0   \n",
              "110  https://nayoo.co/khonkaen/posts/3227   1390000.0    1000000.0   \n",
              "128   https://nayoo.co/khonkaen/posts/600  13162000.0   12000000.0   \n",
              "130  https://nayoo.co/khonkaen/posts/1599   2500000.0    2500000.0   \n",
              "132  https://nayoo.co/khonkaen/posts/1638   4500000.0    2000000.0   \n",
              "134  https://nayoo.co/khonkaen/posts/1828    850000.0    1000000.0   \n",
              "136  https://nayoo.co/khonkaen/posts/2499   5900000.0    5200000.0   \n",
              "138  https://nayoo.co/khonkaen/posts/2510  15000000.0   12000000.0   \n",
              "140  https://nayoo.co/khonkaen/posts/3196    950000.0     800000.0   \n",
              "142  https://nayoo.co/khonkaen/posts/3239   1900000.0    1200000.0   \n",
              "144  https://nayoo.co/khonkaen/posts/3341   1700000.0    1600000.0   \n",
              "146  https://nayoo.co/khonkaen/posts/3506  12075000.0   10000000.0   \n",
              "148  https://nayoo.co/khonkaen/posts/3561   7374550.0    6000000.0   \n",
              "150  https://nayoo.co/khonkaen/posts/3576   2000000.0    1600000.0   \n",
              "152  https://nayoo.co/khonkaen/posts/3593   2500000.0    3200000.0   \n",
              "154  https://nayoo.co/khonkaen/posts/5194  12075000.0   10000000.0   \n",
              "\n",
              "     ประเมินโดย2    check1     check2  \n",
              "1      2000000.0  1.555556   1.400000  \n",
              "4     12000000.0  1.862500   1.241667  \n",
              "7     70000000.0  5.000000   1.285714  \n",
              "10    60000000.0  1.857143   1.083333  \n",
              "13     2500000.0  1.363636   1.200000  \n",
              "16     5000000.0  1.500000   1.200000  \n",
              "19    13000000.0  4.714286   1.269231  \n",
              "22     2500000.0  1.136364   1.136364  \n",
              "25    10000000.0  1.600000   1.200000  \n",
              "28     6000000.0  1.196429   1.116667  \n",
              "31     1800000.0  1.200000   1.333333  \n",
              "33     5500000.0  1.200000   1.090909  \n",
              "35     1600000.0  1.125000   2.812500  \n",
              "37    14000000.0  1.166667   1.000000  \n",
              "39     3500000.0  1.047619   1.060606  \n",
              "41     1200000.0  1.210526   1.916667  \n",
              "70     3500000.0  4.000000   1.166667  \n",
              "72    10000000.0  1.200000   1.200000  \n",
              "76    25000000.0  1.272727   1.120000  \n",
              "78      800000.0  1.020408   1.225000  \n",
              "100    1200000.0  1.010101   1.237500  \n",
              "102    2500000.0  1.812500   1.160000  \n",
              "104    8000000.0  2.885714   1.010000  \n",
              "106    1200000.0  1.390000   1.158333  \n",
              "108    1200000.0  1.300000   1.083333  \n",
              "110    1200000.0  1.390000   1.158333  \n",
              "128   12000000.0  1.096833   1.096833  \n",
              "130    2200000.0  1.000000   1.136364  \n",
              "132    4000000.0  2.250000   1.125000  \n",
              "134     800000.0  1.176471   1.062500  \n",
              "136    5000000.0  1.134615   1.180000  \n",
              "138   12000000.0  1.250000   1.250000  \n",
              "140     900000.0  1.187500   1.055556  \n",
              "142    1500000.0  1.583333   1.266667  \n",
              "144    9000000.0  1.062500   5.294118  \n",
              "146   10000000.0  1.207500   1.207500  \n",
              "148   80000000.0  1.229092  10.848120  \n",
              "150    2200000.0  1.250000   1.100000  \n",
              "152    2200000.0  1.280000   1.136364  \n",
              "154   10000000.0  1.207500   1.207500  "
            ],
            "text/html": [
              "\n",
              "  <div id=\"df-279611e9-43d2-47b1-afaa-f128b9c5fd9c\">\n",
              "    <div class=\"colab-df-container\">\n",
              "      <div>\n",
              "<style scoped>\n",
              "    .dataframe tbody tr th:only-of-type {\n",
              "        vertical-align: middle;\n",
              "    }\n",
              "\n",
              "    .dataframe tbody tr th {\n",
              "        vertical-align: top;\n",
              "    }\n",
              "\n",
              "    .dataframe thead th {\n",
              "        text-align: right;\n",
              "    }\n",
              "</style>\n",
              "<table border=\"1\" class=\"dataframe\">\n",
              "  <thead>\n",
              "    <tr style=\"text-align: right;\">\n",
              "      <th></th>\n",
              "      <th>post id</th>\n",
              "      <th>ราคาทรัพย์</th>\n",
              "      <th>ประเมินโดย1</th>\n",
              "      <th>ประเมินโดย2</th>\n",
              "      <th>check1</th>\n",
              "      <th>check2</th>\n",
              "    </tr>\n",
              "  </thead>\n",
              "  <tbody>\n",
              "    <tr>\n",
              "      <th>1</th>\n",
              "      <td>https://nayoo.co/khonkaen/posts/1033</td>\n",
              "      <td>2800000.0</td>\n",
              "      <td>1800000.0</td>\n",
              "      <td>2000000.0</td>\n",
              "      <td>1.555556</td>\n",
              "      <td>1.400000</td>\n",
              "    </tr>\n",
              "    <tr>\n",
              "      <th>4</th>\n",
              "      <td>https://nayoo.co/khonkaen/posts/1711</td>\n",
              "      <td>14900000.0</td>\n",
              "      <td>8000000.0</td>\n",
              "      <td>12000000.0</td>\n",
              "      <td>1.862500</td>\n",
              "      <td>1.241667</td>\n",
              "    </tr>\n",
              "    <tr>\n",
              "      <th>7</th>\n",
              "      <td>https://nayoo.co/khonkaen/posts/1726</td>\n",
              "      <td>90000000.0</td>\n",
              "      <td>18000000.0</td>\n",
              "      <td>70000000.0</td>\n",
              "      <td>5.000000</td>\n",
              "      <td>1.285714</td>\n",
              "    </tr>\n",
              "    <tr>\n",
              "      <th>10</th>\n",
              "      <td>https://nayoo.co/khonkaen/posts/1732</td>\n",
              "      <td>65000000.0</td>\n",
              "      <td>35000000.0</td>\n",
              "      <td>60000000.0</td>\n",
              "      <td>1.857143</td>\n",
              "      <td>1.083333</td>\n",
              "    </tr>\n",
              "    <tr>\n",
              "      <th>13</th>\n",
              "      <td>https://nayoo.co/khonkaen/posts/1866</td>\n",
              "      <td>3000000.0</td>\n",
              "      <td>2200000.0</td>\n",
              "      <td>2500000.0</td>\n",
              "      <td>1.363636</td>\n",
              "      <td>1.200000</td>\n",
              "    </tr>\n",
              "    <tr>\n",
              "      <th>16</th>\n",
              "      <td>https://nayoo.co/khonkaen/posts/1962</td>\n",
              "      <td>6000000.0</td>\n",
              "      <td>4000000.0</td>\n",
              "      <td>5000000.0</td>\n",
              "      <td>1.500000</td>\n",
              "      <td>1.200000</td>\n",
              "    </tr>\n",
              "    <tr>\n",
              "      <th>19</th>\n",
              "      <td>https://nayoo.co/khonkaen/posts/2007</td>\n",
              "      <td>16500000.0</td>\n",
              "      <td>3500000.0</td>\n",
              "      <td>13000000.0</td>\n",
              "      <td>4.714286</td>\n",
              "      <td>1.269231</td>\n",
              "    </tr>\n",
              "    <tr>\n",
              "      <th>22</th>\n",
              "      <td>https://nayoo.co/khonkaen/posts/2040</td>\n",
              "      <td>2200000.0</td>\n",
              "      <td>2500000.0</td>\n",
              "      <td>2500000.0</td>\n",
              "      <td>1.136364</td>\n",
              "      <td>1.136364</td>\n",
              "    </tr>\n",
              "    <tr>\n",
              "      <th>25</th>\n",
              "      <td>https://nayoo.co/khonkaen/posts/2045</td>\n",
              "      <td>12000000.0</td>\n",
              "      <td>7500000.0</td>\n",
              "      <td>10000000.0</td>\n",
              "      <td>1.600000</td>\n",
              "      <td>1.200000</td>\n",
              "    </tr>\n",
              "    <tr>\n",
              "      <th>28</th>\n",
              "      <td>https://nayoo.co/khonkaen/posts/2068</td>\n",
              "      <td>6700000.0</td>\n",
              "      <td>5600000.0</td>\n",
              "      <td>6000000.0</td>\n",
              "      <td>1.196429</td>\n",
              "      <td>1.116667</td>\n",
              "    </tr>\n",
              "    <tr>\n",
              "      <th>31</th>\n",
              "      <td>https://nayoo.co/khonkaen/posts/2194</td>\n",
              "      <td>2400000.0</td>\n",
              "      <td>2000000.0</td>\n",
              "      <td>1800000.0</td>\n",
              "      <td>1.200000</td>\n",
              "      <td>1.333333</td>\n",
              "    </tr>\n",
              "    <tr>\n",
              "      <th>33</th>\n",
              "      <td>https://nayoo.co/khonkaen/posts/2206</td>\n",
              "      <td>6000000.0</td>\n",
              "      <td>5000000.0</td>\n",
              "      <td>5500000.0</td>\n",
              "      <td>1.200000</td>\n",
              "      <td>1.090909</td>\n",
              "    </tr>\n",
              "    <tr>\n",
              "      <th>35</th>\n",
              "      <td>https://nayoo.co/khonkaen/posts/3219</td>\n",
              "      <td>4500000.0</td>\n",
              "      <td>4000000.0</td>\n",
              "      <td>1600000.0</td>\n",
              "      <td>1.125000</td>\n",
              "      <td>2.812500</td>\n",
              "    </tr>\n",
              "    <tr>\n",
              "      <th>37</th>\n",
              "      <td>https://nayoo.co/khonkaen/posts/3305</td>\n",
              "      <td>14000000.0</td>\n",
              "      <td>12000000.0</td>\n",
              "      <td>14000000.0</td>\n",
              "      <td>1.166667</td>\n",
              "      <td>1.000000</td>\n",
              "    </tr>\n",
              "    <tr>\n",
              "      <th>39</th>\n",
              "      <td>https://nayoo.co/khonkaen/posts/3515</td>\n",
              "      <td>3300000.0</td>\n",
              "      <td>3150000.0</td>\n",
              "      <td>3500000.0</td>\n",
              "      <td>1.047619</td>\n",
              "      <td>1.060606</td>\n",
              "    </tr>\n",
              "    <tr>\n",
              "      <th>41</th>\n",
              "      <td>https://nayoo.co/khonkaen/posts/3601</td>\n",
              "      <td>2300000.0</td>\n",
              "      <td>1900000.0</td>\n",
              "      <td>1200000.0</td>\n",
              "      <td>1.210526</td>\n",
              "      <td>1.916667</td>\n",
              "    </tr>\n",
              "    <tr>\n",
              "      <th>70</th>\n",
              "      <td>https://nayoo.co/khonkaen/posts/1639</td>\n",
              "      <td>3000000.0</td>\n",
              "      <td>12000000.0</td>\n",
              "      <td>3500000.0</td>\n",
              "      <td>4.000000</td>\n",
              "      <td>1.166667</td>\n",
              "    </tr>\n",
              "    <tr>\n",
              "      <th>72</th>\n",
              "      <td>https://nayoo.co/khonkaen/posts/1861</td>\n",
              "      <td>12000000.0</td>\n",
              "      <td>10000000.0</td>\n",
              "      <td>10000000.0</td>\n",
              "      <td>1.200000</td>\n",
              "      <td>1.200000</td>\n",
              "    </tr>\n",
              "    <tr>\n",
              "      <th>76</th>\n",
              "      <td>https://nayoo.co/khonkaen/posts/1716</td>\n",
              "      <td>28000000.0</td>\n",
              "      <td>22000000.0</td>\n",
              "      <td>25000000.0</td>\n",
              "      <td>1.272727</td>\n",
              "      <td>1.120000</td>\n",
              "    </tr>\n",
              "    <tr>\n",
              "      <th>78</th>\n",
              "      <td>https://nayoo.co/khonkaen/posts/3447</td>\n",
              "      <td>980000.0</td>\n",
              "      <td>1000000.0</td>\n",
              "      <td>800000.0</td>\n",
              "      <td>1.020408</td>\n",
              "      <td>1.225000</td>\n",
              "    </tr>\n",
              "    <tr>\n",
              "      <th>100</th>\n",
              "      <td>https://nayoo.co/khonkaen/posts/1663</td>\n",
              "      <td>1485000.0</td>\n",
              "      <td>1500000.0</td>\n",
              "      <td>1200000.0</td>\n",
              "      <td>1.010101</td>\n",
              "      <td>1.237500</td>\n",
              "    </tr>\n",
              "    <tr>\n",
              "      <th>102</th>\n",
              "      <td>https://nayoo.co/khonkaen/posts/1685</td>\n",
              "      <td>2900000.0</td>\n",
              "      <td>1600000.0</td>\n",
              "      <td>2500000.0</td>\n",
              "      <td>1.812500</td>\n",
              "      <td>1.160000</td>\n",
              "    </tr>\n",
              "    <tr>\n",
              "      <th>104</th>\n",
              "      <td>https://nayoo.co/khonkaen/posts/1921</td>\n",
              "      <td>8080000.0</td>\n",
              "      <td>2800000.0</td>\n",
              "      <td>8000000.0</td>\n",
              "      <td>2.885714</td>\n",
              "      <td>1.010000</td>\n",
              "    </tr>\n",
              "    <tr>\n",
              "      <th>106</th>\n",
              "      <td>https://nayoo.co/khonkaen/posts/2151</td>\n",
              "      <td>1390000.0</td>\n",
              "      <td>1000000.0</td>\n",
              "      <td>1200000.0</td>\n",
              "      <td>1.390000</td>\n",
              "      <td>1.158333</td>\n",
              "    </tr>\n",
              "    <tr>\n",
              "      <th>108</th>\n",
              "      <td>https://nayoo.co/khonkaen/posts/2199</td>\n",
              "      <td>1300000.0</td>\n",
              "      <td>1000000.0</td>\n",
              "      <td>1200000.0</td>\n",
              "      <td>1.300000</td>\n",
              "      <td>1.083333</td>\n",
              "    </tr>\n",
              "    <tr>\n",
              "      <th>110</th>\n",
              "      <td>https://nayoo.co/khonkaen/posts/3227</td>\n",
              "      <td>1390000.0</td>\n",
              "      <td>1000000.0</td>\n",
              "      <td>1200000.0</td>\n",
              "      <td>1.390000</td>\n",
              "      <td>1.158333</td>\n",
              "    </tr>\n",
              "    <tr>\n",
              "      <th>128</th>\n",
              "      <td>https://nayoo.co/khonkaen/posts/600</td>\n",
              "      <td>13162000.0</td>\n",
              "      <td>12000000.0</td>\n",
              "      <td>12000000.0</td>\n",
              "      <td>1.096833</td>\n",
              "      <td>1.096833</td>\n",
              "    </tr>\n",
              "    <tr>\n",
              "      <th>130</th>\n",
              "      <td>https://nayoo.co/khonkaen/posts/1599</td>\n",
              "      <td>2500000.0</td>\n",
              "      <td>2500000.0</td>\n",
              "      <td>2200000.0</td>\n",
              "      <td>1.000000</td>\n",
              "      <td>1.136364</td>\n",
              "    </tr>\n",
              "    <tr>\n",
              "      <th>132</th>\n",
              "      <td>https://nayoo.co/khonkaen/posts/1638</td>\n",
              "      <td>4500000.0</td>\n",
              "      <td>2000000.0</td>\n",
              "      <td>4000000.0</td>\n",
              "      <td>2.250000</td>\n",
              "      <td>1.125000</td>\n",
              "    </tr>\n",
              "    <tr>\n",
              "      <th>134</th>\n",
              "      <td>https://nayoo.co/khonkaen/posts/1828</td>\n",
              "      <td>850000.0</td>\n",
              "      <td>1000000.0</td>\n",
              "      <td>800000.0</td>\n",
              "      <td>1.176471</td>\n",
              "      <td>1.062500</td>\n",
              "    </tr>\n",
              "    <tr>\n",
              "      <th>136</th>\n",
              "      <td>https://nayoo.co/khonkaen/posts/2499</td>\n",
              "      <td>5900000.0</td>\n",
              "      <td>5200000.0</td>\n",
              "      <td>5000000.0</td>\n",
              "      <td>1.134615</td>\n",
              "      <td>1.180000</td>\n",
              "    </tr>\n",
              "    <tr>\n",
              "      <th>138</th>\n",
              "      <td>https://nayoo.co/khonkaen/posts/2510</td>\n",
              "      <td>15000000.0</td>\n",
              "      <td>12000000.0</td>\n",
              "      <td>12000000.0</td>\n",
              "      <td>1.250000</td>\n",
              "      <td>1.250000</td>\n",
              "    </tr>\n",
              "    <tr>\n",
              "      <th>140</th>\n",
              "      <td>https://nayoo.co/khonkaen/posts/3196</td>\n",
              "      <td>950000.0</td>\n",
              "      <td>800000.0</td>\n",
              "      <td>900000.0</td>\n",
              "      <td>1.187500</td>\n",
              "      <td>1.055556</td>\n",
              "    </tr>\n",
              "    <tr>\n",
              "      <th>142</th>\n",
              "      <td>https://nayoo.co/khonkaen/posts/3239</td>\n",
              "      <td>1900000.0</td>\n",
              "      <td>1200000.0</td>\n",
              "      <td>1500000.0</td>\n",
              "      <td>1.583333</td>\n",
              "      <td>1.266667</td>\n",
              "    </tr>\n",
              "    <tr>\n",
              "      <th>144</th>\n",
              "      <td>https://nayoo.co/khonkaen/posts/3341</td>\n",
              "      <td>1700000.0</td>\n",
              "      <td>1600000.0</td>\n",
              "      <td>9000000.0</td>\n",
              "      <td>1.062500</td>\n",
              "      <td>5.294118</td>\n",
              "    </tr>\n",
              "    <tr>\n",
              "      <th>146</th>\n",
              "      <td>https://nayoo.co/khonkaen/posts/3506</td>\n",
              "      <td>12075000.0</td>\n",
              "      <td>10000000.0</td>\n",
              "      <td>10000000.0</td>\n",
              "      <td>1.207500</td>\n",
              "      <td>1.207500</td>\n",
              "    </tr>\n",
              "    <tr>\n",
              "      <th>148</th>\n",
              "      <td>https://nayoo.co/khonkaen/posts/3561</td>\n",
              "      <td>7374550.0</td>\n",
              "      <td>6000000.0</td>\n",
              "      <td>80000000.0</td>\n",
              "      <td>1.229092</td>\n",
              "      <td>10.848120</td>\n",
              "    </tr>\n",
              "    <tr>\n",
              "      <th>150</th>\n",
              "      <td>https://nayoo.co/khonkaen/posts/3576</td>\n",
              "      <td>2000000.0</td>\n",
              "      <td>1600000.0</td>\n",
              "      <td>2200000.0</td>\n",
              "      <td>1.250000</td>\n",
              "      <td>1.100000</td>\n",
              "    </tr>\n",
              "    <tr>\n",
              "      <th>152</th>\n",
              "      <td>https://nayoo.co/khonkaen/posts/3593</td>\n",
              "      <td>2500000.0</td>\n",
              "      <td>3200000.0</td>\n",
              "      <td>2200000.0</td>\n",
              "      <td>1.280000</td>\n",
              "      <td>1.136364</td>\n",
              "    </tr>\n",
              "    <tr>\n",
              "      <th>154</th>\n",
              "      <td>https://nayoo.co/khonkaen/posts/5194</td>\n",
              "      <td>12075000.0</td>\n",
              "      <td>10000000.0</td>\n",
              "      <td>10000000.0</td>\n",
              "      <td>1.207500</td>\n",
              "      <td>1.207500</td>\n",
              "    </tr>\n",
              "  </tbody>\n",
              "</table>\n",
              "</div>\n",
              "      <button class=\"colab-df-convert\" onclick=\"convertToInteractive('df-279611e9-43d2-47b1-afaa-f128b9c5fd9c')\"\n",
              "              title=\"Convert this dataframe to an interactive table.\"\n",
              "              style=\"display:none;\">\n",
              "        \n",
              "  <svg xmlns=\"http://www.w3.org/2000/svg\" height=\"24px\"viewBox=\"0 0 24 24\"\n",
              "       width=\"24px\">\n",
              "    <path d=\"M0 0h24v24H0V0z\" fill=\"none\"/>\n",
              "    <path d=\"M18.56 5.44l.94 2.06.94-2.06 2.06-.94-2.06-.94-.94-2.06-.94 2.06-2.06.94zm-11 1L8.5 8.5l.94-2.06 2.06-.94-2.06-.94L8.5 2.5l-.94 2.06-2.06.94zm10 10l.94 2.06.94-2.06 2.06-.94-2.06-.94-.94-2.06-.94 2.06-2.06.94z\"/><path d=\"M17.41 7.96l-1.37-1.37c-.4-.4-.92-.59-1.43-.59-.52 0-1.04.2-1.43.59L10.3 9.45l-7.72 7.72c-.78.78-.78 2.05 0 2.83L4 21.41c.39.39.9.59 1.41.59.51 0 1.02-.2 1.41-.59l7.78-7.78 2.81-2.81c.8-.78.8-2.07 0-2.86zM5.41 20L4 18.59l7.72-7.72 1.47 1.35L5.41 20z\"/>\n",
              "  </svg>\n",
              "      </button>\n",
              "      \n",
              "  <style>\n",
              "    .colab-df-container {\n",
              "      display:flex;\n",
              "      flex-wrap:wrap;\n",
              "      gap: 12px;\n",
              "    }\n",
              "\n",
              "    .colab-df-convert {\n",
              "      background-color: #E8F0FE;\n",
              "      border: none;\n",
              "      border-radius: 50%;\n",
              "      cursor: pointer;\n",
              "      display: none;\n",
              "      fill: #1967D2;\n",
              "      height: 32px;\n",
              "      padding: 0 0 0 0;\n",
              "      width: 32px;\n",
              "    }\n",
              "\n",
              "    .colab-df-convert:hover {\n",
              "      background-color: #E2EBFA;\n",
              "      box-shadow: 0px 1px 2px rgba(60, 64, 67, 0.3), 0px 1px 3px 1px rgba(60, 64, 67, 0.15);\n",
              "      fill: #174EA6;\n",
              "    }\n",
              "\n",
              "    [theme=dark] .colab-df-convert {\n",
              "      background-color: #3B4455;\n",
              "      fill: #D2E3FC;\n",
              "    }\n",
              "\n",
              "    [theme=dark] .colab-df-convert:hover {\n",
              "      background-color: #434B5C;\n",
              "      box-shadow: 0px 1px 3px 1px rgba(0, 0, 0, 0.15);\n",
              "      filter: drop-shadow(0px 1px 2px rgba(0, 0, 0, 0.3));\n",
              "      fill: #FFFFFF;\n",
              "    }\n",
              "  </style>\n",
              "\n",
              "      <script>\n",
              "        const buttonEl =\n",
              "          document.querySelector('#df-279611e9-43d2-47b1-afaa-f128b9c5fd9c button.colab-df-convert');\n",
              "        buttonEl.style.display =\n",
              "          google.colab.kernel.accessAllowed ? 'block' : 'none';\n",
              "\n",
              "        async function convertToInteractive(key) {\n",
              "          const element = document.querySelector('#df-279611e9-43d2-47b1-afaa-f128b9c5fd9c');\n",
              "          const dataTable =\n",
              "            await google.colab.kernel.invokeFunction('convertToInteractive',\n",
              "                                                     [key], {});\n",
              "          if (!dataTable) return;\n",
              "\n",
              "          const docLinkHtml = 'Like what you see? Visit the ' +\n",
              "            '<a target=\"_blank\" href=https://colab.research.google.com/notebooks/data_table.ipynb>data table notebook</a>'\n",
              "            + ' to learn more about interactive tables.';\n",
              "          element.innerHTML = '';\n",
              "          dataTable['output_type'] = 'display_data';\n",
              "          await google.colab.output.renderOutput(dataTable, element);\n",
              "          const docLink = document.createElement('div');\n",
              "          docLink.innerHTML = docLinkHtml;\n",
              "          element.appendChild(docLink);\n",
              "        }\n",
              "      </script>\n",
              "    </div>\n",
              "  </div>\n",
              "  "
            ]
          },
          "metadata": {},
          "execution_count": 23
        }
      ]
    },
    {
      "cell_type": "markdown",
      "source": [
        "### ทาวน์โฮม"
      ],
      "metadata": {
        "id": "FkyK0telSkMA"
      }
    },
    {
      "cell_type": "code",
      "source": [
        "check1 = list()\n",
        "for row in townh.iterrows():\n",
        "    check1.append(check_v(row[1]['ราคาทรัพย์'],row[1]['ประเมินโดย1']))\n",
        "townh['check1'] = check1\n",
        "\n",
        "check2 = list()\n",
        "for row in townh.iterrows():\n",
        "    check2.append(check_v(row[1]['ราคาทรัพย์'],row[1]['ประเมินโดย2']))\n",
        "townh['check2'] = check2\n",
        "\n",
        "townh"
      ],
      "metadata": {
        "colab": {
          "base_uri": "https://localhost:8080/",
          "height": 863
        },
        "id": "gLgGd6IJ9t_4",
        "outputId": "7cf017b4-81eb-4536-99fc-15e9e71cffc5"
      },
      "execution_count": 24,
      "outputs": [
        {
          "output_type": "stream",
          "name": "stderr",
          "text": [
            "<ipython-input-24-0f358cf9617a>:4: SettingWithCopyWarning: \n",
            "A value is trying to be set on a copy of a slice from a DataFrame.\n",
            "Try using .loc[row_indexer,col_indexer] = value instead\n",
            "\n",
            "See the caveats in the documentation: https://pandas.pydata.org/pandas-docs/stable/user_guide/indexing.html#returning-a-view-versus-a-copy\n",
            "  townh['check1'] = check1\n",
            "<ipython-input-24-0f358cf9617a>:9: SettingWithCopyWarning: \n",
            "A value is trying to be set on a copy of a slice from a DataFrame.\n",
            "Try using .loc[row_indexer,col_indexer] = value instead\n",
            "\n",
            "See the caveats in the documentation: https://pandas.pydata.org/pandas-docs/stable/user_guide/indexing.html#returning-a-view-versus-a-copy\n",
            "  townh['check2'] = check2\n"
          ]
        },
        {
          "output_type": "execute_result",
          "data": {
            "text/plain": [
              "                                  post id  ราคาทรัพย์  ประเมินโดย1  \\\n",
              "1     https://nayoo.co/khonkaen/posts/548   1045000.0     700000.0   \n",
              "3     https://nayoo.co/khonkaen/posts/549    935000.0     700000.0   \n",
              "5     https://nayoo.co/khonkaen/posts/579   3520000.0    3500000.0   \n",
              "7     https://nayoo.co/khonkaen/posts/580   3850000.0    3500000.0   \n",
              "9     https://nayoo.co/khonkaen/posts/582    990000.0    1000000.0   \n",
              "..                                    ...         ...          ...   \n",
              "176  https://nayoo.co/khonkaen/posts/3528   2190000.0     350000.0   \n",
              "177  https://nayoo.co/khonkaen/posts/3599   1700000.0    1800000.0   \n",
              "178  https://nayoo.co/khonkaen/posts/3661   1900000.0    2000000.0   \n",
              "179  https://nayoo.co/khonkaen/posts/3719   1550000.0    1400000.0   \n",
              "196   https://nayoo.co/khonkaen/posts/616   1540000.0    1500000.0   \n",
              "\n",
              "     ประเมินโดย2    check1    check2  \n",
              "1      1500000.0  1.492857  1.435407  \n",
              "3      1500000.0  1.335714  1.604278  \n",
              "5      4000000.0  1.005714  1.136364  \n",
              "7      3200000.0  1.100000  1.203125  \n",
              "9       800000.0  1.010101  1.237500  \n",
              "..           ...       ...       ...  \n",
              "176     400000.0  6.257143  5.475000  \n",
              "177    1700000.0  1.058824  1.000000  \n",
              "178    1900000.0  1.052632  1.000000  \n",
              "179    1500000.0  1.107143  1.033333  \n",
              "196    1500000.0  1.026667  1.026667  \n",
              "\n",
              "[61 rows x 6 columns]"
            ],
            "text/html": [
              "\n",
              "  <div id=\"df-d313cb02-afd2-4ebc-9fe0-85d1b9559d82\">\n",
              "    <div class=\"colab-df-container\">\n",
              "      <div>\n",
              "<style scoped>\n",
              "    .dataframe tbody tr th:only-of-type {\n",
              "        vertical-align: middle;\n",
              "    }\n",
              "\n",
              "    .dataframe tbody tr th {\n",
              "        vertical-align: top;\n",
              "    }\n",
              "\n",
              "    .dataframe thead th {\n",
              "        text-align: right;\n",
              "    }\n",
              "</style>\n",
              "<table border=\"1\" class=\"dataframe\">\n",
              "  <thead>\n",
              "    <tr style=\"text-align: right;\">\n",
              "      <th></th>\n",
              "      <th>post id</th>\n",
              "      <th>ราคาทรัพย์</th>\n",
              "      <th>ประเมินโดย1</th>\n",
              "      <th>ประเมินโดย2</th>\n",
              "      <th>check1</th>\n",
              "      <th>check2</th>\n",
              "    </tr>\n",
              "  </thead>\n",
              "  <tbody>\n",
              "    <tr>\n",
              "      <th>1</th>\n",
              "      <td>https://nayoo.co/khonkaen/posts/548</td>\n",
              "      <td>1045000.0</td>\n",
              "      <td>700000.0</td>\n",
              "      <td>1500000.0</td>\n",
              "      <td>1.492857</td>\n",
              "      <td>1.435407</td>\n",
              "    </tr>\n",
              "    <tr>\n",
              "      <th>3</th>\n",
              "      <td>https://nayoo.co/khonkaen/posts/549</td>\n",
              "      <td>935000.0</td>\n",
              "      <td>700000.0</td>\n",
              "      <td>1500000.0</td>\n",
              "      <td>1.335714</td>\n",
              "      <td>1.604278</td>\n",
              "    </tr>\n",
              "    <tr>\n",
              "      <th>5</th>\n",
              "      <td>https://nayoo.co/khonkaen/posts/579</td>\n",
              "      <td>3520000.0</td>\n",
              "      <td>3500000.0</td>\n",
              "      <td>4000000.0</td>\n",
              "      <td>1.005714</td>\n",
              "      <td>1.136364</td>\n",
              "    </tr>\n",
              "    <tr>\n",
              "      <th>7</th>\n",
              "      <td>https://nayoo.co/khonkaen/posts/580</td>\n",
              "      <td>3850000.0</td>\n",
              "      <td>3500000.0</td>\n",
              "      <td>3200000.0</td>\n",
              "      <td>1.100000</td>\n",
              "      <td>1.203125</td>\n",
              "    </tr>\n",
              "    <tr>\n",
              "      <th>9</th>\n",
              "      <td>https://nayoo.co/khonkaen/posts/582</td>\n",
              "      <td>990000.0</td>\n",
              "      <td>1000000.0</td>\n",
              "      <td>800000.0</td>\n",
              "      <td>1.010101</td>\n",
              "      <td>1.237500</td>\n",
              "    </tr>\n",
              "    <tr>\n",
              "      <th>...</th>\n",
              "      <td>...</td>\n",
              "      <td>...</td>\n",
              "      <td>...</td>\n",
              "      <td>...</td>\n",
              "      <td>...</td>\n",
              "      <td>...</td>\n",
              "    </tr>\n",
              "    <tr>\n",
              "      <th>176</th>\n",
              "      <td>https://nayoo.co/khonkaen/posts/3528</td>\n",
              "      <td>2190000.0</td>\n",
              "      <td>350000.0</td>\n",
              "      <td>400000.0</td>\n",
              "      <td>6.257143</td>\n",
              "      <td>5.475000</td>\n",
              "    </tr>\n",
              "    <tr>\n",
              "      <th>177</th>\n",
              "      <td>https://nayoo.co/khonkaen/posts/3599</td>\n",
              "      <td>1700000.0</td>\n",
              "      <td>1800000.0</td>\n",
              "      <td>1700000.0</td>\n",
              "      <td>1.058824</td>\n",
              "      <td>1.000000</td>\n",
              "    </tr>\n",
              "    <tr>\n",
              "      <th>178</th>\n",
              "      <td>https://nayoo.co/khonkaen/posts/3661</td>\n",
              "      <td>1900000.0</td>\n",
              "      <td>2000000.0</td>\n",
              "      <td>1900000.0</td>\n",
              "      <td>1.052632</td>\n",
              "      <td>1.000000</td>\n",
              "    </tr>\n",
              "    <tr>\n",
              "      <th>179</th>\n",
              "      <td>https://nayoo.co/khonkaen/posts/3719</td>\n",
              "      <td>1550000.0</td>\n",
              "      <td>1400000.0</td>\n",
              "      <td>1500000.0</td>\n",
              "      <td>1.107143</td>\n",
              "      <td>1.033333</td>\n",
              "    </tr>\n",
              "    <tr>\n",
              "      <th>196</th>\n",
              "      <td>https://nayoo.co/khonkaen/posts/616</td>\n",
              "      <td>1540000.0</td>\n",
              "      <td>1500000.0</td>\n",
              "      <td>1500000.0</td>\n",
              "      <td>1.026667</td>\n",
              "      <td>1.026667</td>\n",
              "    </tr>\n",
              "  </tbody>\n",
              "</table>\n",
              "<p>61 rows × 6 columns</p>\n",
              "</div>\n",
              "      <button class=\"colab-df-convert\" onclick=\"convertToInteractive('df-d313cb02-afd2-4ebc-9fe0-85d1b9559d82')\"\n",
              "              title=\"Convert this dataframe to an interactive table.\"\n",
              "              style=\"display:none;\">\n",
              "        \n",
              "  <svg xmlns=\"http://www.w3.org/2000/svg\" height=\"24px\"viewBox=\"0 0 24 24\"\n",
              "       width=\"24px\">\n",
              "    <path d=\"M0 0h24v24H0V0z\" fill=\"none\"/>\n",
              "    <path d=\"M18.56 5.44l.94 2.06.94-2.06 2.06-.94-2.06-.94-.94-2.06-.94 2.06-2.06.94zm-11 1L8.5 8.5l.94-2.06 2.06-.94-2.06-.94L8.5 2.5l-.94 2.06-2.06.94zm10 10l.94 2.06.94-2.06 2.06-.94-2.06-.94-.94-2.06-.94 2.06-2.06.94z\"/><path d=\"M17.41 7.96l-1.37-1.37c-.4-.4-.92-.59-1.43-.59-.52 0-1.04.2-1.43.59L10.3 9.45l-7.72 7.72c-.78.78-.78 2.05 0 2.83L4 21.41c.39.39.9.59 1.41.59.51 0 1.02-.2 1.41-.59l7.78-7.78 2.81-2.81c.8-.78.8-2.07 0-2.86zM5.41 20L4 18.59l7.72-7.72 1.47 1.35L5.41 20z\"/>\n",
              "  </svg>\n",
              "      </button>\n",
              "      \n",
              "  <style>\n",
              "    .colab-df-container {\n",
              "      display:flex;\n",
              "      flex-wrap:wrap;\n",
              "      gap: 12px;\n",
              "    }\n",
              "\n",
              "    .colab-df-convert {\n",
              "      background-color: #E8F0FE;\n",
              "      border: none;\n",
              "      border-radius: 50%;\n",
              "      cursor: pointer;\n",
              "      display: none;\n",
              "      fill: #1967D2;\n",
              "      height: 32px;\n",
              "      padding: 0 0 0 0;\n",
              "      width: 32px;\n",
              "    }\n",
              "\n",
              "    .colab-df-convert:hover {\n",
              "      background-color: #E2EBFA;\n",
              "      box-shadow: 0px 1px 2px rgba(60, 64, 67, 0.3), 0px 1px 3px 1px rgba(60, 64, 67, 0.15);\n",
              "      fill: #174EA6;\n",
              "    }\n",
              "\n",
              "    [theme=dark] .colab-df-convert {\n",
              "      background-color: #3B4455;\n",
              "      fill: #D2E3FC;\n",
              "    }\n",
              "\n",
              "    [theme=dark] .colab-df-convert:hover {\n",
              "      background-color: #434B5C;\n",
              "      box-shadow: 0px 1px 3px 1px rgba(0, 0, 0, 0.15);\n",
              "      filter: drop-shadow(0px 1px 2px rgba(0, 0, 0, 0.3));\n",
              "      fill: #FFFFFF;\n",
              "    }\n",
              "  </style>\n",
              "\n",
              "      <script>\n",
              "        const buttonEl =\n",
              "          document.querySelector('#df-d313cb02-afd2-4ebc-9fe0-85d1b9559d82 button.colab-df-convert');\n",
              "        buttonEl.style.display =\n",
              "          google.colab.kernel.accessAllowed ? 'block' : 'none';\n",
              "\n",
              "        async function convertToInteractive(key) {\n",
              "          const element = document.querySelector('#df-d313cb02-afd2-4ebc-9fe0-85d1b9559d82');\n",
              "          const dataTable =\n",
              "            await google.colab.kernel.invokeFunction('convertToInteractive',\n",
              "                                                     [key], {});\n",
              "          if (!dataTable) return;\n",
              "\n",
              "          const docLinkHtml = 'Like what you see? Visit the ' +\n",
              "            '<a target=\"_blank\" href=https://colab.research.google.com/notebooks/data_table.ipynb>data table notebook</a>'\n",
              "            + ' to learn more about interactive tables.';\n",
              "          element.innerHTML = '';\n",
              "          dataTable['output_type'] = 'display_data';\n",
              "          await google.colab.output.renderOutput(dataTable, element);\n",
              "          const docLink = document.createElement('div');\n",
              "          docLink.innerHTML = docLinkHtml;\n",
              "          element.appendChild(docLink);\n",
              "        }\n",
              "      </script>\n",
              "    </div>\n",
              "  </div>\n",
              "  "
            ]
          },
          "metadata": {},
          "execution_count": 24
        }
      ]
    },
    {
      "cell_type": "markdown",
      "source": [
        "### อาคารพาณิชย์"
      ],
      "metadata": {
        "id": "WIDO0UCDSppl"
      }
    },
    {
      "cell_type": "code",
      "source": [
        "check1 = list()\n",
        "for row in comm.iterrows():\n",
        "    check1.append(check_v(row[1]['ราคาทรัพย์'],row[1]['ประเมินโดย1']))\n",
        "comm['check1'] = check1\n",
        "\n",
        "check2 = list()\n",
        "for row in comm.iterrows():\n",
        "    check2.append(check_v(row[1]['ราคาทรัพย์'],row[1]['ประเมินโดย2']))\n",
        "comm['check2'] = check2\n",
        "\n",
        "comm"
      ],
      "metadata": {
        "colab": {
          "base_uri": "https://localhost:8080/",
          "height": 571
        },
        "id": "chX3O7sbSo5Y",
        "outputId": "451eb5a9-cb3c-44e7-dc67-3654efdab9d7"
      },
      "execution_count": 36,
      "outputs": [
        {
          "output_type": "stream",
          "name": "stderr",
          "text": [
            "<ipython-input-36-b4dc28ab9d7f>:4: SettingWithCopyWarning: \n",
            "A value is trying to be set on a copy of a slice from a DataFrame.\n",
            "Try using .loc[row_indexer,col_indexer] = value instead\n",
            "\n",
            "See the caveats in the documentation: https://pandas.pydata.org/pandas-docs/stable/user_guide/indexing.html#returning-a-view-versus-a-copy\n",
            "  comm['check1'] = check1\n",
            "<ipython-input-36-b4dc28ab9d7f>:9: SettingWithCopyWarning: \n",
            "A value is trying to be set on a copy of a slice from a DataFrame.\n",
            "Try using .loc[row_indexer,col_indexer] = value instead\n",
            "\n",
            "See the caveats in the documentation: https://pandas.pydata.org/pandas-docs/stable/user_guide/indexing.html#returning-a-view-versus-a-copy\n",
            "  comm['check2'] = check2\n"
          ]
        },
        {
          "output_type": "execute_result",
          "data": {
            "text/plain": [
              "                                post id  ราคาทรัพย์  ประเมินโดย1  ประเมินโดย2  \\\n",
              "1     https://nayoo.co/khonkaen/posts/6   7000000.0    6000000.0    8000000.0   \n",
              "3    https://nayoo.co/khonkaen/posts/17  12000000.0   12000000.0   12000000.0   \n",
              "5    https://nayoo.co/khonkaen/posts/21  22500000.0   13500000.0   20000000.0   \n",
              "7    https://nayoo.co/khonkaen/posts/22   3500000.0    4000000.0    4000000.0   \n",
              "9    https://nayoo.co/khonkaen/posts/24   3900000.0    2200000.0    3000000.0   \n",
              "11   https://nayoo.co/khonkaen/posts/30   4800000.0    3600000.0    4000000.0   \n",
              "13   https://nayoo.co/khonkaen/posts/35   2400000.0    2500000.0    2100000.0   \n",
              "15  https://nayoo.co/khonkaen/posts/497   5000000.0    3800000.0    5000000.0   \n",
              "17  https://nayoo.co/khonkaen/posts/498   7000000.0    7000000.0    8000000.0   \n",
              "19  https://nayoo.co/khonkaen/posts/499   9000000.0    8000000.0   10000000.0   \n",
              "\n",
              "      check1    check2  \n",
              "1   1.166667  1.142857  \n",
              "3   1.000000  1.000000  \n",
              "5   1.666667  1.125000  \n",
              "7   1.142857  1.142857  \n",
              "9   1.772727  1.300000  \n",
              "11  1.333333  1.200000  \n",
              "13  1.041667  1.142857  \n",
              "15  1.315789  1.000000  \n",
              "17  1.000000  1.142857  \n",
              "19  1.125000  1.111111  "
            ],
            "text/html": [
              "\n",
              "  <div id=\"df-66857423-94d4-4f61-a657-cd09f2adfcf4\">\n",
              "    <div class=\"colab-df-container\">\n",
              "      <div>\n",
              "<style scoped>\n",
              "    .dataframe tbody tr th:only-of-type {\n",
              "        vertical-align: middle;\n",
              "    }\n",
              "\n",
              "    .dataframe tbody tr th {\n",
              "        vertical-align: top;\n",
              "    }\n",
              "\n",
              "    .dataframe thead th {\n",
              "        text-align: right;\n",
              "    }\n",
              "</style>\n",
              "<table border=\"1\" class=\"dataframe\">\n",
              "  <thead>\n",
              "    <tr style=\"text-align: right;\">\n",
              "      <th></th>\n",
              "      <th>post id</th>\n",
              "      <th>ราคาทรัพย์</th>\n",
              "      <th>ประเมินโดย1</th>\n",
              "      <th>ประเมินโดย2</th>\n",
              "      <th>check1</th>\n",
              "      <th>check2</th>\n",
              "    </tr>\n",
              "  </thead>\n",
              "  <tbody>\n",
              "    <tr>\n",
              "      <th>1</th>\n",
              "      <td>https://nayoo.co/khonkaen/posts/6</td>\n",
              "      <td>7000000.0</td>\n",
              "      <td>6000000.0</td>\n",
              "      <td>8000000.0</td>\n",
              "      <td>1.166667</td>\n",
              "      <td>1.142857</td>\n",
              "    </tr>\n",
              "    <tr>\n",
              "      <th>3</th>\n",
              "      <td>https://nayoo.co/khonkaen/posts/17</td>\n",
              "      <td>12000000.0</td>\n",
              "      <td>12000000.0</td>\n",
              "      <td>12000000.0</td>\n",
              "      <td>1.000000</td>\n",
              "      <td>1.000000</td>\n",
              "    </tr>\n",
              "    <tr>\n",
              "      <th>5</th>\n",
              "      <td>https://nayoo.co/khonkaen/posts/21</td>\n",
              "      <td>22500000.0</td>\n",
              "      <td>13500000.0</td>\n",
              "      <td>20000000.0</td>\n",
              "      <td>1.666667</td>\n",
              "      <td>1.125000</td>\n",
              "    </tr>\n",
              "    <tr>\n",
              "      <th>7</th>\n",
              "      <td>https://nayoo.co/khonkaen/posts/22</td>\n",
              "      <td>3500000.0</td>\n",
              "      <td>4000000.0</td>\n",
              "      <td>4000000.0</td>\n",
              "      <td>1.142857</td>\n",
              "      <td>1.142857</td>\n",
              "    </tr>\n",
              "    <tr>\n",
              "      <th>9</th>\n",
              "      <td>https://nayoo.co/khonkaen/posts/24</td>\n",
              "      <td>3900000.0</td>\n",
              "      <td>2200000.0</td>\n",
              "      <td>3000000.0</td>\n",
              "      <td>1.772727</td>\n",
              "      <td>1.300000</td>\n",
              "    </tr>\n",
              "    <tr>\n",
              "      <th>11</th>\n",
              "      <td>https://nayoo.co/khonkaen/posts/30</td>\n",
              "      <td>4800000.0</td>\n",
              "      <td>3600000.0</td>\n",
              "      <td>4000000.0</td>\n",
              "      <td>1.333333</td>\n",
              "      <td>1.200000</td>\n",
              "    </tr>\n",
              "    <tr>\n",
              "      <th>13</th>\n",
              "      <td>https://nayoo.co/khonkaen/posts/35</td>\n",
              "      <td>2400000.0</td>\n",
              "      <td>2500000.0</td>\n",
              "      <td>2100000.0</td>\n",
              "      <td>1.041667</td>\n",
              "      <td>1.142857</td>\n",
              "    </tr>\n",
              "    <tr>\n",
              "      <th>15</th>\n",
              "      <td>https://nayoo.co/khonkaen/posts/497</td>\n",
              "      <td>5000000.0</td>\n",
              "      <td>3800000.0</td>\n",
              "      <td>5000000.0</td>\n",
              "      <td>1.315789</td>\n",
              "      <td>1.000000</td>\n",
              "    </tr>\n",
              "    <tr>\n",
              "      <th>17</th>\n",
              "      <td>https://nayoo.co/khonkaen/posts/498</td>\n",
              "      <td>7000000.0</td>\n",
              "      <td>7000000.0</td>\n",
              "      <td>8000000.0</td>\n",
              "      <td>1.000000</td>\n",
              "      <td>1.142857</td>\n",
              "    </tr>\n",
              "    <tr>\n",
              "      <th>19</th>\n",
              "      <td>https://nayoo.co/khonkaen/posts/499</td>\n",
              "      <td>9000000.0</td>\n",
              "      <td>8000000.0</td>\n",
              "      <td>10000000.0</td>\n",
              "      <td>1.125000</td>\n",
              "      <td>1.111111</td>\n",
              "    </tr>\n",
              "  </tbody>\n",
              "</table>\n",
              "</div>\n",
              "      <button class=\"colab-df-convert\" onclick=\"convertToInteractive('df-66857423-94d4-4f61-a657-cd09f2adfcf4')\"\n",
              "              title=\"Convert this dataframe to an interactive table.\"\n",
              "              style=\"display:none;\">\n",
              "        \n",
              "  <svg xmlns=\"http://www.w3.org/2000/svg\" height=\"24px\"viewBox=\"0 0 24 24\"\n",
              "       width=\"24px\">\n",
              "    <path d=\"M0 0h24v24H0V0z\" fill=\"none\"/>\n",
              "    <path d=\"M18.56 5.44l.94 2.06.94-2.06 2.06-.94-2.06-.94-.94-2.06-.94 2.06-2.06.94zm-11 1L8.5 8.5l.94-2.06 2.06-.94-2.06-.94L8.5 2.5l-.94 2.06-2.06.94zm10 10l.94 2.06.94-2.06 2.06-.94-2.06-.94-.94-2.06-.94 2.06-2.06.94z\"/><path d=\"M17.41 7.96l-1.37-1.37c-.4-.4-.92-.59-1.43-.59-.52 0-1.04.2-1.43.59L10.3 9.45l-7.72 7.72c-.78.78-.78 2.05 0 2.83L4 21.41c.39.39.9.59 1.41.59.51 0 1.02-.2 1.41-.59l7.78-7.78 2.81-2.81c.8-.78.8-2.07 0-2.86zM5.41 20L4 18.59l7.72-7.72 1.47 1.35L5.41 20z\"/>\n",
              "  </svg>\n",
              "      </button>\n",
              "      \n",
              "  <style>\n",
              "    .colab-df-container {\n",
              "      display:flex;\n",
              "      flex-wrap:wrap;\n",
              "      gap: 12px;\n",
              "    }\n",
              "\n",
              "    .colab-df-convert {\n",
              "      background-color: #E8F0FE;\n",
              "      border: none;\n",
              "      border-radius: 50%;\n",
              "      cursor: pointer;\n",
              "      display: none;\n",
              "      fill: #1967D2;\n",
              "      height: 32px;\n",
              "      padding: 0 0 0 0;\n",
              "      width: 32px;\n",
              "    }\n",
              "\n",
              "    .colab-df-convert:hover {\n",
              "      background-color: #E2EBFA;\n",
              "      box-shadow: 0px 1px 2px rgba(60, 64, 67, 0.3), 0px 1px 3px 1px rgba(60, 64, 67, 0.15);\n",
              "      fill: #174EA6;\n",
              "    }\n",
              "\n",
              "    [theme=dark] .colab-df-convert {\n",
              "      background-color: #3B4455;\n",
              "      fill: #D2E3FC;\n",
              "    }\n",
              "\n",
              "    [theme=dark] .colab-df-convert:hover {\n",
              "      background-color: #434B5C;\n",
              "      box-shadow: 0px 1px 3px 1px rgba(0, 0, 0, 0.15);\n",
              "      filter: drop-shadow(0px 1px 2px rgba(0, 0, 0, 0.3));\n",
              "      fill: #FFFFFF;\n",
              "    }\n",
              "  </style>\n",
              "\n",
              "      <script>\n",
              "        const buttonEl =\n",
              "          document.querySelector('#df-66857423-94d4-4f61-a657-cd09f2adfcf4 button.colab-df-convert');\n",
              "        buttonEl.style.display =\n",
              "          google.colab.kernel.accessAllowed ? 'block' : 'none';\n",
              "\n",
              "        async function convertToInteractive(key) {\n",
              "          const element = document.querySelector('#df-66857423-94d4-4f61-a657-cd09f2adfcf4');\n",
              "          const dataTable =\n",
              "            await google.colab.kernel.invokeFunction('convertToInteractive',\n",
              "                                                     [key], {});\n",
              "          if (!dataTable) return;\n",
              "\n",
              "          const docLinkHtml = 'Like what you see? Visit the ' +\n",
              "            '<a target=\"_blank\" href=https://colab.research.google.com/notebooks/data_table.ipynb>data table notebook</a>'\n",
              "            + ' to learn more about interactive tables.';\n",
              "          element.innerHTML = '';\n",
              "          dataTable['output_type'] = 'display_data';\n",
              "          await google.colab.output.renderOutput(dataTable, element);\n",
              "          const docLink = document.createElement('div');\n",
              "          docLink.innerHTML = docLinkHtml;\n",
              "          element.appendChild(docLink);\n",
              "        }\n",
              "      </script>\n",
              "    </div>\n",
              "  </div>\n",
              "  "
            ]
          },
          "metadata": {},
          "execution_count": 36
        }
      ]
    },
    {
      "cell_type": "markdown",
      "source": [
        "# การหาค่า MAPE หลังทำการตรวจสอบค่าที่เติม 0 ผิด"
      ],
      "metadata": {
        "id": "4kCmCwGQTd9d"
      }
    },
    {
      "cell_type": "markdown",
      "source": [
        "## บ้าน"
      ],
      "metadata": {
        "id": "Mf-59WB8Td9s"
      }
    },
    {
      "cell_type": "code",
      "source": [
        "from sklearn.metrics import mean_absolute_percentage_error as MAPE"
      ],
      "metadata": {
        "id": "ojfyKIhlTd9s"
      },
      "execution_count": null,
      "outputs": []
    },
    {
      "cell_type": "code",
      "source": [
        "Home = pd.read_excel('/content/drive/MyDrive/bsc_DPDM_data/แก้-คำตอบนักประเมิน1.xlsx',sheet_name='บ้าน')\n",
        "id1 = Home[Home['ID ผู้ประเมิน']==1]\n",
        "id1 = id1.dropna(subset=['ราคาทรัพย์','ประเมินราคาซื้อ-ขาย'])  #ในที่นี้ควร Dropna เพราะไม่ทราบค่า //เเต่มีวิธีที่ดีกว่า คือการที่ดูปัจจัยแวดล้อมแล้วนำมาวิเคราะห์หาแนวโน้มของข้อมูลิล // เอาทุกค่าที่่มีอยู่มาสร้างโมเดลเพื่อทำนายค่าที่หายไป\n",
        "id2 = Home[Home['ID ผู้ประเมิน']==2]\n",
        "id2 = id2.dropna(subset=['ราคาทรัพย์','ประเมินราคาซื้อ-ขาย'])\n",
        "id1MAPE = MAPE(id1['ประเมินราคาซื้อ-ขาย'],pd.to_numeric(id1['ราคาทรัพย์']))\n",
        "id2MAPE = MAPE(id2['ประเมินราคาซื้อ-ขาย'],pd.to_numeric(id2['ราคาทรัพย์']))\n",
        "print(f'ความแตกต่างระหว่างราคาประกาศขายและราคาประเมินของ\\nบ้าน\\nนักประเมิน คนที่ 1 = {id1MAPE*100:.2f}%\\nนักประเมิน คนที่ 2 = {id2MAPE*100:.2f}%')\n",
        "id2['ประเมินโดย1'] = id2['post id'].map(id1.set_index('post id')['ประเมินราคาซื้อ-ขาย'])\n",
        "id2_d = id2.dropna(subset=['ประเมินราคาซื้อ-ขาย','ประเมินโดย1','ราคาทรัพย์'])\n",
        "one2two = MAPE(id2_d['ประเมินราคาซื้อ-ขาย'],id2_d['ประเมินโดย1'])\n",
        "two2one = MAPE(id2_d['ประเมินโดย1'],id2_d['ประเมินราคาซื้อ-ขาย'])\n",
        "print(f'ความผิดพลาดระหว่างนักประเมินทั้งสอง {((one2two)+(two2one))*50:.2f}%') #เฉลี่ยเพื่อหาความผิดพลาดระหว่าง 1 และ 2\n",
        "print(f'จำนวนทรัพย์ทั้งหมด {len(id2_d)} ทรัพย์')"
      ],
      "metadata": {
        "colab": {
          "base_uri": "https://localhost:8080/"
        },
        "outputId": "e6b708f7-be1d-4773-8236-4063a8af2b74",
        "id": "8fsZqMTdTd9t"
      },
      "execution_count": 37,
      "outputs": [
        {
          "output_type": "stream",
          "name": "stdout",
          "text": [
            "ความแตกต่างระหว่างราคาประกาศขายและราคาประเมินของ\n",
            "บ้าน\n",
            "นักประเมิน คนที่ 1 = 13.75%\n",
            "นักประเมิน คนที่ 2 = 9.51%\n",
            "ความผิดพลาดระหว่างนักประเมินทั้งสอง 13.54%\n",
            "จำนวนทรัพย์ทั้งหมด 61 ทรัพย์\n"
          ]
        }
      ]
    },
    {
      "cell_type": "markdown",
      "source": [
        "## ที่ดิน"
      ],
      "metadata": {
        "id": "TxBWsJVpTd9v"
      }
    },
    {
      "cell_type": "code",
      "source": [
        "from sklearn.metrics import mean_absolute_percentage_error as MAPE"
      ],
      "metadata": {
        "id": "_SpZDP7kTd9v"
      },
      "execution_count": null,
      "outputs": []
    },
    {
      "cell_type": "code",
      "source": [
        "Land = pd.read_excel('/content/drive/MyDrive/bsc_DPDM_data/แก้-คำตอบนักประเมิน1.xlsx',sheet_name='ที่ดิน')\n",
        "id1 = Land[Land['ID ผู้ประเมิน']==1]\n",
        "id1 = id1.dropna(subset=['ราคาทรัพย์','ประเมินราคาซื้อ-ขาย'])\n",
        "id2 = Land[Land['ID ผู้ประเมิน']==2]\n",
        "id2 = id2.dropna(subset=['ราคาทรัพย์','ประเมินราคาซื้อ-ขาย'])\n",
        "id1MAPE = MAPE(id1['ประเมินราคาซื้อ-ขาย'],pd.to_numeric(id1['ราคาทรัพย์']))\n",
        "id2MAPE = MAPE(id2['ประเมินราคาซื้อ-ขาย'],pd.to_numeric(id2['ราคาทรัพย์']))\n",
        "print(f'ความแตกต่างระหว่างราคาประกาศขายและราคาประเมินของ\\nบ้าน\\nนักประเมิน คนที่ 1 = {id1MAPE*100:.2f}%\\nนักประเมิน คนที่ 2 = {id2MAPE*100:.2f}%')\n",
        "id2['ประเมินโดย1'] = id2['post id'].map(id1.set_index('post id')['ประเมินราคาซื้อ-ขาย'])\n",
        "id2_d = id2.dropna(subset=['ประเมินราคาซื้อ-ขาย','ประเมินโดย1','ราคาทรัพย์'])\n",
        "one2two = MAPE(id2_d['ประเมินราคาซื้อ-ขาย'],id2_d['ประเมินโดย1'])\n",
        "two2one = MAPE(id2_d['ประเมินโดย1'],id2_d['ประเมินราคาซื้อ-ขาย'])\n",
        "print(f'ความผิดพลาดระหว่างนักประเมินทั้งสอง {((one2two)+(two2one))*50:.2f}%') #เฉลี่ยเพื่อหาความผิดพลาดระหว่าง 1 และ 2\n",
        "print(f'จำนวนทรัพย์ทั้งหมด {len(id2_d)} ทรัพย์')\n",
        "# %หลังทำการตัด 0 เกินออกมี error น้อยกว่า"
      ],
      "metadata": {
        "colab": {
          "base_uri": "https://localhost:8080/"
        },
        "outputId": "83a616a2-e3e5-4b2c-a0f8-c7fca371ab32",
        "id": "10AjAE34Td9w"
      },
      "execution_count": 38,
      "outputs": [
        {
          "output_type": "stream",
          "name": "stdout",
          "text": [
            "ความแตกต่างระหว่างราคาประกาศขายและราคาประเมินของ\n",
            "บ้าน\n",
            "นักประเมิน คนที่ 1 = 53.94%\n",
            "นักประเมิน คนที่ 2 = 23.82%\n",
            "ความผิดพลาดระหว่างนักประเมินทั้งสอง 42.37%\n",
            "จำนวนทรัพย์ทั้งหมด 40 ทรัพย์\n"
          ]
        }
      ]
    },
    {
      "cell_type": "markdown",
      "source": [
        "## ทาวน์โฮม"
      ],
      "metadata": {
        "id": "BkEEXQeZTd9z"
      }
    },
    {
      "cell_type": "code",
      "source": [
        "from sklearn.metrics import mean_absolute_percentage_error as MAPE"
      ],
      "metadata": {
        "id": "JtdELzeDTd9z"
      },
      "execution_count": null,
      "outputs": []
    },
    {
      "cell_type": "code",
      "source": [
        "Townh = pd.read_excel('/content/drive/MyDrive/bsc_DPDM_data/แก้-คำตอบนักประเมิน1.xlsx',sheet_name='ทาวน์โฮม')\n",
        "id1 = Townh[Townh['ID ผู้ประเมิน']==1]\n",
        "id1 = id1.dropna(subset=['ราคาทรัพย์','ประเมินราคาซื้อ-ขาย'])\n",
        "id2 = Townh[Townh['ID ผู้ประเมิน']==2]\n",
        "id2 = id2.dropna(subset=['ราคาทรัพย์','ประเมินราคาซื้อ-ขาย'])\n",
        "id1MAPE = MAPE(id1['ประเมินราคาซื้อ-ขาย'],pd.to_numeric(id1['ราคาทรัพย์']))\n",
        "id2MAPE = MAPE(id2['ประเมินราคาซื้อ-ขาย'],pd.to_numeric(id2['ราคาทรัพย์']))\n",
        "print(f'ความแตกต่างระหว่างราคาประกาศขายและราคาประเมินของ\\nบ้าน\\nนักประเมิน คนที่ 1 = {id1MAPE*100:.2f}%\\nนักประเมิน คนที่ 2 = {id2MAPE*100:.2f}%')\n",
        "id2['ประเมินโดย1'] = id2['post id'].map(id1.set_index('post id')['ประเมินราคาซื้อ-ขาย'])\n",
        "id2_d = id2.dropna(subset=['ประเมินราคาซื้อ-ขาย','ประเมินโดย1','ราคาทรัพย์'])\n",
        "one2two = MAPE(id2_d['ประเมินราคาซื้อ-ขาย'],id2_d['ประเมินโดย1'])\n",
        "two2one = MAPE(id2_d['ประเมินโดย1'],id2_d['ประเมินราคาซื้อ-ขาย'])\n",
        "print(f'ความผิดพลาดระหว่างนักประเมินทั้งสอง {((one2two)+(two2one))*50:.2f}%') #เฉลี่ยเพื่อหาความผิดพลาดระหว่าง 1 และ 2\n",
        "print(f'จำนวนทรัพย์ทั้งหมด {len(id2_d)} ทรัพย์')"
      ],
      "metadata": {
        "colab": {
          "base_uri": "https://localhost:8080/"
        },
        "outputId": "e36db68e-b3ba-45a2-f6cb-6d373b7a4b68",
        "id": "MptUF4IOTd90"
      },
      "execution_count": 39,
      "outputs": [
        {
          "output_type": "stream",
          "name": "stdout",
          "text": [
            "ความแตกต่างระหว่างราคาประกาศขายและราคาประเมินของ\n",
            "บ้าน\n",
            "นักประเมิน คนที่ 1 = 11.69%\n",
            "นักประเมิน คนที่ 2 = 8.64%\n",
            "ความผิดพลาดระหว่างนักประเมินทั้งสอง 11.63%\n",
            "จำนวนทรัพย์ทั้งหมด 60 ทรัพย์\n"
          ]
        }
      ]
    },
    {
      "cell_type": "markdown",
      "source": [
        "## อาคารพาณิชย์"
      ],
      "metadata": {
        "id": "-jVfxY_JTd91"
      }
    },
    {
      "cell_type": "code",
      "source": [
        "from sklearn.metrics import mean_absolute_percentage_error as MAPE"
      ],
      "metadata": {
        "id": "upCbua4nTd91"
      },
      "execution_count": null,
      "outputs": []
    },
    {
      "cell_type": "code",
      "source": [
        "Comm = pd.read_excel('/content/drive/MyDrive/bsc_DPDM_data/แก้-คำตอบนักประเมิน1.xlsx',sheet_name='อาคารพาณิชย์')\n",
        "id1 = Comm[Comm['ID ผู้ประเมิน']==1]\n",
        "id1 = id1.dropna(subset=['ราคาทรัพย์','ประเมินราคาซื้อ-ขาย'])\n",
        "id2 = Comm[Comm['ID ผู้ประเมิน']==2]\n",
        "id2 = id2.dropna(subset=['ราคาทรัพย์','ประเมินราคาซื้อ-ขาย'])\n",
        "id1MAPE = MAPE(id1['ประเมินราคาซื้อ-ขาย'],pd.to_numeric(id1['ราคาทรัพย์']))\n",
        "id2MAPE = MAPE(id2['ประเมินราคาซื้อ-ขาย'],pd.to_numeric(id2['ราคาทรัพย์']))\n",
        "print(f'ความแตกต่างระหว่างราคาประกาศขายและราคาประเมินของ\\nบ้าน\\nนักประเมิน คนที่ 1 = {id1MAPE*100:.2f}%\\nนักประเมิน คนที่ 2 = {id2MAPE*100:.2f}%')\n",
        "id2['ประเมินโดย1'] = id2['post id'].map(id1.set_index('post id')['ประเมินราคาซื้อ-ขาย'])\n",
        "id2_d = id2.dropna(subset=['ประเมินราคาซื้อ-ขาย','ประเมินโดย1','ราคาทรัพย์'])\n",
        "one2two = MAPE(id2_d['ประเมินราคาซื้อ-ขาย'],id2_d['ประเมินโดย1'])\n",
        "two2one = MAPE(id2_d['ประเมินโดย1'],id2_d['ประเมินราคาซื้อ-ขาย'])\n",
        "print(f'ความผิดพลาดระหว่างนักประเมินทั้งสอง {((one2two)+(two2one))*50:.2f}%') #เฉลี่ยเพื่อหาความผิดพลาดระหว่าง 1 และ 2\n",
        "print(f'จำนวนทรัพย์ทั้งหมด {len(id2_d)} ทรัพย์')"
      ],
      "metadata": {
        "colab": {
          "base_uri": "https://localhost:8080/"
        },
        "outputId": "339cc0d2-9222-446d-e40e-9b6be0485e7d",
        "id": "DzYUM5pzTd92"
      },
      "execution_count": 40,
      "outputs": [
        {
          "output_type": "stream",
          "name": "stdout",
          "text": [
            "ความแตกต่างระหว่างราคาประกาศขายและราคาประเมินของ\n",
            "บ้าน\n",
            "นักประเมิน คนที่ 1 = 25.45%\n",
            "นักประเมิน คนที่ 2 = 12.43%\n",
            "ความผิดพลาดระหว่างนักประเมินทั้งสอง 19.28%\n",
            "จำนวนทรัพย์ทั้งหมด 10 ทรัพย์\n"
          ]
        }
      ]
    }
  ]
}